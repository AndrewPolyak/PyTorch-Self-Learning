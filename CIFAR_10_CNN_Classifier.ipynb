{
  "nbformat": 4,
  "nbformat_minor": 0,
  "metadata": {
    "colab": {
      "provenance": [],
      "gpuType": "T4",
      "include_colab_link": true
    },
    "kernelspec": {
      "name": "python3",
      "display_name": "Python 3"
    },
    "language_info": {
      "name": "python"
    },
    "accelerator": "GPU"
  },
  "cells": [
    {
      "cell_type": "markdown",
      "metadata": {
        "id": "view-in-github",
        "colab_type": "text"
      },
      "source": [
        "<a href=\"https://colab.research.google.com/github/AndrewPolyak/PyTorch-Self-Learning/blob/main/CIFAR_10_CNN_Classifier.ipynb\" target=\"_parent\"><img src=\"https://colab.research.google.com/assets/colab-badge.svg\" alt=\"Open In Colab\"/></a>"
      ]
    },
    {
      "cell_type": "markdown",
      "source": [
        "# CIFAR-10 CNN Classifier\n",
        "\n",
        "*By Andrew Polyak*\n",
        "\n",
        "This mini-project is designed to help me understand the key steps involved in deep learning with CNNs and give me additional practical experience using PyTorch.\n",
        "\n",
        "The goal of this project is to build a simple Convolutional Neural Network (CNN) to classify images from the CIFAR-10 dataset using PyTorch and torchvision.\n",
        "\n"
      ],
      "metadata": {
        "id": "6AC7NxsK2cN1"
      }
    },
    {
      "cell_type": "markdown",
      "source": [
        "## 1. Initialize the Environment"
      ],
      "metadata": {
        "id": "vFydDMJJ3cLj"
      }
    },
    {
      "cell_type": "code",
      "source": [
        "import torch\n",
        "import torch.nn as nn\n",
        "import torchvision\n",
        "from torchvision.datasets import CIFAR10\n",
        "import torchvision.transforms as transforms\n",
        "from torch.utils.data import DataLoader\n",
        "\n",
        "import matplotlib.pyplot as plt"
      ],
      "metadata": {
        "id": "BL29iujA4UDL"
      },
      "execution_count": 117,
      "outputs": []
    },
    {
      "cell_type": "code",
      "source": [
        "device = \"cuda\" if torch.cuda.is_available() else \"cpu\"\n",
        "print(f\"Currently using {device}\")"
      ],
      "metadata": {
        "colab": {
          "base_uri": "https://localhost:8080/"
        },
        "id": "oQNqiNI_5AM4",
        "outputId": "c407a381-1bfb-48ef-ef40-7cee03275f26"
      },
      "execution_count": 118,
      "outputs": [
        {
          "output_type": "stream",
          "name": "stdout",
          "text": [
            "Currently using cuda\n"
          ]
        }
      ]
    },
    {
      "cell_type": "markdown",
      "source": [
        "## 2. Load and Pre-Process the Data"
      ],
      "metadata": {
        "id": "nufVPzX63cJG"
      }
    },
    {
      "cell_type": "code",
      "source": [
        "transforms_original = transforms.Compose([\n",
        "    transforms.ToTensor(),\n",
        "])\n",
        "\n",
        "transforms_augmented = transforms.Compose([\n",
        "    transforms.RandomHorizontalFlip(),\n",
        "    transforms.RandomRotation(10),\n",
        "    transforms.RandomCrop(size=32, padding=4),\n",
        "    transforms.ToTensor()\n",
        "])"
      ],
      "metadata": {
        "id": "LXJiBoDkoB3J"
      },
      "execution_count": 119,
      "outputs": []
    },
    {
      "cell_type": "code",
      "source": [
        "train_original_data = CIFAR10(root=\"data\",\n",
        "                              train=True,\n",
        "                              transform=transforms_original,\n",
        "                              target_transform=None,\n",
        "                              download=True)\n",
        "train_augmented_data1 = CIFAR10(root=\"data\",\n",
        "                               train=True,\n",
        "                               transform=transforms_augmented,\n",
        "                               target_transform=None,\n",
        "                               download=True)"
      ],
      "metadata": {
        "id": "jf5zIAUPpJaf"
      },
      "execution_count": 120,
      "outputs": []
    },
    {
      "cell_type": "code",
      "source": [
        "train_data = torch.utils.data.ConcatDataset([train_original_data, train_augmented_data1])\n",
        "test_data = CIFAR10(root=\"data\",\n",
        "                     train=False,\n",
        "                     transform=transforms_original,\n",
        "                     target_transform=None,\n",
        "                     download=True)\n",
        "print(f\"Training data: {train_data.datasets}\\n\\nTesting data: {test_data}\")"
      ],
      "metadata": {
        "colab": {
          "base_uri": "https://localhost:8080/"
        },
        "id": "KmKctYJl4UTf",
        "outputId": "e47238fb-246c-499c-fd34-b0ef84da6bf7"
      },
      "execution_count": 121,
      "outputs": [
        {
          "output_type": "stream",
          "name": "stdout",
          "text": [
            "Training data: [Dataset CIFAR10\n",
            "    Number of datapoints: 50000\n",
            "    Root location: data\n",
            "    Split: Train\n",
            "    StandardTransform\n",
            "Transform: Compose(\n",
            "               ToTensor()\n",
            "           ), Dataset CIFAR10\n",
            "    Number of datapoints: 50000\n",
            "    Root location: data\n",
            "    Split: Train\n",
            "    StandardTransform\n",
            "Transform: Compose(\n",
            "               RandomHorizontalFlip(p=0.5)\n",
            "               RandomRotation(degrees=[-10.0, 10.0], interpolation=nearest, expand=False, fill=0)\n",
            "               RandomCrop(size=(32, 32), padding=4)\n",
            "               ToTensor()\n",
            "           )]\n",
            "\n",
            "Testing data: Dataset CIFAR10\n",
            "    Number of datapoints: 10000\n",
            "    Root location: data\n",
            "    Split: Test\n",
            "    StandardTransform\n",
            "Transform: Compose(\n",
            "               ToTensor()\n",
            "           )\n"
          ]
        }
      ]
    },
    {
      "cell_type": "code",
      "source": [
        "num_classes = len(test_data.classes)\n",
        "classes = test_data.classes\n",
        "print(f\"Dataset has {num_classes} classes: {classes}\")"
      ],
      "metadata": {
        "colab": {
          "base_uri": "https://localhost:8080/"
        },
        "id": "rYJVwvu36Udb",
        "outputId": "448cb5d5-af6c-4391-e15b-42428473305b"
      },
      "execution_count": 122,
      "outputs": [
        {
          "output_type": "stream",
          "name": "stdout",
          "text": [
            "Dataset has 10 classes: ['airplane', 'automobile', 'bird', 'cat', 'deer', 'dog', 'frog', 'horse', 'ship', 'truck']\n"
          ]
        }
      ]
    },
    {
      "cell_type": "code",
      "source": [
        "torch.manual_seed(42)\n",
        "\n",
        "BATCH_SIZE = 32\n",
        "\n",
        "train_dataloader = DataLoader(dataset=train_data,\n",
        "                              batch_size=BATCH_SIZE,\n",
        "                              shuffle=True)\n",
        "test_dataloader = DataLoader(dataset=test_data,\n",
        "                             batch_size=BATCH_SIZE,\n",
        "                             shuffle=True)"
      ],
      "metadata": {
        "id": "NQ3jT2PL6zki"
      },
      "execution_count": 123,
      "outputs": []
    },
    {
      "cell_type": "markdown",
      "source": [
        "## 3. Explore and Visualize the Data"
      ],
      "metadata": {
        "id": "vYVJqqNO3cG_"
      }
    },
    {
      "cell_type": "code",
      "source": [
        "X, y = train_data[0]\n",
        "print(f\"Example feature: {X}\\n\\nExample label: {y}\")"
      ],
      "metadata": {
        "colab": {
          "base_uri": "https://localhost:8080/"
        },
        "id": "K1kbqocL4UrX",
        "outputId": "09451c67-8ab9-46de-876f-8309717e584c"
      },
      "execution_count": 124,
      "outputs": [
        {
          "output_type": "stream",
          "name": "stdout",
          "text": [
            "Example feature: tensor([[[0.2314, 0.1686, 0.1961,  ..., 0.6196, 0.5961, 0.5804],\n",
            "         [0.0627, 0.0000, 0.0706,  ..., 0.4824, 0.4667, 0.4784],\n",
            "         [0.0980, 0.0627, 0.1922,  ..., 0.4627, 0.4706, 0.4275],\n",
            "         ...,\n",
            "         [0.8157, 0.7882, 0.7765,  ..., 0.6275, 0.2196, 0.2078],\n",
            "         [0.7059, 0.6784, 0.7294,  ..., 0.7216, 0.3804, 0.3255],\n",
            "         [0.6941, 0.6588, 0.7020,  ..., 0.8471, 0.5922, 0.4824]],\n",
            "\n",
            "        [[0.2431, 0.1804, 0.1882,  ..., 0.5176, 0.4902, 0.4863],\n",
            "         [0.0784, 0.0000, 0.0314,  ..., 0.3451, 0.3255, 0.3412],\n",
            "         [0.0941, 0.0275, 0.1059,  ..., 0.3294, 0.3294, 0.2863],\n",
            "         ...,\n",
            "         [0.6667, 0.6000, 0.6314,  ..., 0.5216, 0.1216, 0.1333],\n",
            "         [0.5451, 0.4824, 0.5647,  ..., 0.5804, 0.2431, 0.2078],\n",
            "         [0.5647, 0.5059, 0.5569,  ..., 0.7216, 0.4627, 0.3608]],\n",
            "\n",
            "        [[0.2471, 0.1765, 0.1686,  ..., 0.4235, 0.4000, 0.4039],\n",
            "         [0.0784, 0.0000, 0.0000,  ..., 0.2157, 0.1961, 0.2235],\n",
            "         [0.0824, 0.0000, 0.0314,  ..., 0.1961, 0.1961, 0.1647],\n",
            "         ...,\n",
            "         [0.3765, 0.1333, 0.1020,  ..., 0.2745, 0.0275, 0.0784],\n",
            "         [0.3765, 0.1647, 0.1176,  ..., 0.3686, 0.1333, 0.1333],\n",
            "         [0.4549, 0.3686, 0.3412,  ..., 0.5490, 0.3294, 0.2824]]])\n",
            "\n",
            "Example label: 6\n"
          ]
        }
      ]
    },
    {
      "cell_type": "code",
      "source": [
        "print(f\"Shape of features: {X.shape} --> ([Colour channels (RGB), height, width])\\nShape of labels: {y}\")"
      ],
      "metadata": {
        "colab": {
          "base_uri": "https://localhost:8080/"
        },
        "id": "IfCbK5_18H_t",
        "outputId": "bdfc75ab-d940-473b-b2fd-b3f8634f08aa"
      },
      "execution_count": 125,
      "outputs": [
        {
          "output_type": "stream",
          "name": "stdout",
          "text": [
            "Shape of features: torch.Size([3, 32, 32]) --> ([Colour channels (RGB), height, width])\n",
            "Shape of labels: 6\n"
          ]
        }
      ]
    },
    {
      "cell_type": "code",
      "source": [
        "X, y = test_data[99]\n",
        "\n",
        "plt.figure(figsize=(3,3))\n",
        "plt.imshow(X.permute(1, 2, 0))\n",
        "plt.title(classes[y])\n",
        "plt.axis(False)"
      ],
      "metadata": {
        "colab": {
          "base_uri": "https://localhost:8080/",
          "height": 307
        },
        "id": "UUtgUAHx8iaD",
        "outputId": "33140abe-8499-47ac-9992-e341b396cdef"
      },
      "execution_count": 126,
      "outputs": [
        {
          "output_type": "execute_result",
          "data": {
            "text/plain": [
              "(np.float64(-0.5), np.float64(31.5), np.float64(31.5), np.float64(-0.5))"
            ]
          },
          "metadata": {},
          "execution_count": 126
        },
        {
          "output_type": "display_data",
          "data": {
            "text/plain": [
              "<Figure size 300x300 with 1 Axes>"
            ],
            "image/png": "[encoded data removed]"
          },
          "metadata": {}
        }
      ]
    },
    {
      "cell_type": "markdown",
      "source": [
        "## 4. Build the CNN Model"
      ],
      "metadata": {
        "id": "XaQgAD1u3cEi"
      }
    },
    {
      "cell_type": "code",
      "source": [
        "class CIFARCNN(nn.Module):\n",
        "  def __init__(self, in_dim, hid_dim, out_dim):\n",
        "    super().__init__()\n",
        "    self.stack1 = nn.Sequential(\n",
        "        nn.Conv2d(in_channels=in_dim,\n",
        "                  out_channels=hid_dim,\n",
        "                  kernel_size=3,\n",
        "                  stride=1,\n",
        "                  padding=1),\n",
        "        nn.BatchNorm2d(hid_dim),\n",
        "        nn.ReLU(),\n",
        "        nn.Conv2d(in_channels=hid_dim,\n",
        "                  out_channels=hid_dim,\n",
        "                  kernel_size=3,\n",
        "                  stride=1,\n",
        "                  padding=1),\n",
        "        nn.BatchNorm2d(hid_dim),\n",
        "        nn.ReLU(),\n",
        "        nn.MaxPool2d(kernel_size=2,\n",
        "                     stride=2,\n",
        "                     padding=1),\n",
        "        nn.Dropout(0.2)\n",
        "    )\n",
        "    self.stack2 = nn.Sequential(\n",
        "        nn.Conv2d(in_channels=hid_dim,\n",
        "                  out_channels=hid_dim,\n",
        "                  kernel_size=3,\n",
        "                  stride=1,\n",
        "                  padding=1),\n",
        "        nn.BatchNorm2d(hid_dim),\n",
        "        nn.ReLU(),\n",
        "        nn.Conv2d(in_channels=hid_dim,\n",
        "                  out_channels=hid_dim,\n",
        "                  kernel_size=3,\n",
        "                  stride=1,\n",
        "                  padding=1),\n",
        "        nn.BatchNorm2d(hid_dim),\n",
        "        nn.ReLU(),\n",
        "        nn.MaxPool2d(kernel_size=2,\n",
        "                     stride=2,\n",
        "                     padding=1),\n",
        "        nn.Dropout(0.3)\n",
        "    )\n",
        "    self.stack3 = nn.Sequential(\n",
        "        nn.Flatten(),\n",
        "        nn.Linear(in_features=10368,\n",
        "                  out_features=out_dim)\n",
        "    )\n",
        "\n",
        "  def forward(self, x):\n",
        "    return self.stack3(self.stack2(self.stack1(x)))"
      ],
      "metadata": {
        "id": "pYXO4hq54U80"
      },
      "execution_count": 127,
      "outputs": []
    },
    {
      "cell_type": "code",
      "source": [
        "torch.manual_seed(42)\n",
        "torch.cuda.manual_seed_all(42)\n",
        "\n",
        "IN_DIM = 3\n",
        "HID_DIM = 128\n",
        "OUT_DIM = 10\n",
        "\n",
        "model = CIFARCNN(in_dim=IN_DIM,\n",
        "                 hid_dim=HID_DIM,\n",
        "                 out_dim=OUT_DIM).to(device)\n",
        "print(model)"
      ],
      "metadata": {
        "colab": {
          "base_uri": "https://localhost:8080/"
        },
        "id": "E_prD9Dq_OH0",
        "outputId": "0d40c2a9-55e7-44ba-dfa4-be8882fd777b"
      },
      "execution_count": 128,
      "outputs": [
        {
          "output_type": "stream",
          "name": "stdout",
          "text": [
            "CIFARCNN(\n",
            "  (stack1): Sequential(\n",
            "    (0): Conv2d(3, 128, kernel_size=(3, 3), stride=(1, 1), padding=(1, 1))\n",
            "    (1): BatchNorm2d(128, eps=1e-05, momentum=0.1, affine=True, track_running_stats=True)\n",
            "    (2): ReLU()\n",
            "    (3): Conv2d(128, 128, kernel_size=(3, 3), stride=(1, 1), padding=(1, 1))\n",
            "    (4): BatchNorm2d(128, eps=1e-05, momentum=0.1, affine=True, track_running_stats=True)\n",
            "    (5): ReLU()\n",
            "    (6): MaxPool2d(kernel_size=2, stride=2, padding=1, dilation=1, ceil_mode=False)\n",
            "    (7): Dropout(p=0.2, inplace=False)\n",
            "  )\n",
            "  (stack2): Sequential(\n",
            "    (0): Conv2d(128, 128, kernel_size=(3, 3), stride=(1, 1), padding=(1, 1))\n",
            "    (1): BatchNorm2d(128, eps=1e-05, momentum=0.1, affine=True, track_running_stats=True)\n",
            "    (2): ReLU()\n",
            "    (3): Conv2d(128, 128, kernel_size=(3, 3), stride=(1, 1), padding=(1, 1))\n",
            "    (4): BatchNorm2d(128, eps=1e-05, momentum=0.1, affine=True, track_running_stats=True)\n",
            "    (5): ReLU()\n",
            "    (6): MaxPool2d(kernel_size=2, stride=2, padding=1, dilation=1, ceil_mode=False)\n",
            "    (7): Dropout(p=0.3, inplace=False)\n",
            "  )\n",
            "  (stack3): Sequential(\n",
            "    (0): Flatten(start_dim=1, end_dim=-1)\n",
            "    (1): Linear(in_features=10368, out_features=10, bias=True)\n",
            "  )\n",
            ")\n"
          ]
        }
      ]
    },
    {
      "cell_type": "markdown",
      "source": [
        "## 5. Set Up the Loss Function and Optimizer"
      ],
      "metadata": {
        "id": "DRBnN0qd33UG"
      }
    },
    {
      "cell_type": "code",
      "source": [
        "import torch.optim.lr_scheduler as lr_scheduler\n",
        "\n",
        "LEARNING_RATE = 0.01\n",
        "\n",
        "loss_fn = nn.CrossEntropyLoss()\n",
        "optimizer = torch.optim.SGD(params=model.parameters(),\n",
        "                             lr=LEARNING_RATE,\n",
        "                             weight_decay=1e-4)\n",
        "\n",
        "lambda1 = lambda epoch: epoch / 5\n",
        "scheduler = lr_scheduler.LambdaLR(optimizer=optimizer, lr_lambda=lambda1)"
      ],
      "metadata": {
        "id": "ew_8ZCr44VMi"
      },
      "execution_count": 129,
      "outputs": []
    },
    {
      "cell_type": "markdown",
      "source": [
        "## 6. Train the Model"
      ],
      "metadata": {
        "id": "adiVwVie33R_"
      }
    },
    {
      "cell_type": "code",
      "source": [
        "!pip install torchmetrics"
      ],
      "metadata": {
        "colab": {
          "base_uri": "https://localhost:8080/"
        },
        "collapsed": true,
        "id": "SQojI4iyHqLx",
        "outputId": "04541f35-57a2-4adf-9de2-9d0c8855751b"
      },
      "execution_count": 130,
      "outputs": [
        {
          "output_type": "stream",
          "name": "stdout",
          "text": [
            "Requirement already satisfied: torchmetrics in /usr/local/lib/python3.11/dist-packages (1.7.0)\n",
            "Requirement already satisfied: numpy>1.20.0 in /usr/local/lib/python3.11/dist-packages (from torchmetrics) (2.0.2)\n",
            "Requirement already satisfied: packaging>17.1 in /usr/local/lib/python3.11/dist-packages (from torchmetrics) (24.2)\n",
            "Requirement already satisfied: torch>=2.0.0 in /usr/local/lib/python3.11/dist-packages (from torchmetrics) (2.6.0+cu124)\n",
            "Requirement already satisfied: lightning-utilities>=0.8.0 in /usr/local/lib/python3.11/dist-packages (from torchmetrics) (0.14.2)\n",
            "Requirement already satisfied: setuptools in /usr/local/lib/python3.11/dist-packages (from lightning-utilities>=0.8.0->torchmetrics) (75.1.0)\n",
            "Requirement already satisfied: typing_extensions in /usr/local/lib/python3.11/dist-packages (from lightning-utilities>=0.8.0->torchmetrics) (4.12.2)\n",
            "Requirement already satisfied: filelock in /usr/local/lib/python3.11/dist-packages (from torch>=2.0.0->torchmetrics) (3.18.0)\n",
            "Requirement already satisfied: networkx in /usr/local/lib/python3.11/dist-packages (from torch>=2.0.0->torchmetrics) (3.4.2)\n",
            "Requirement already satisfied: jinja2 in /usr/local/lib/python3.11/dist-packages (from torch>=2.0.0->torchmetrics) (3.1.6)\n",
            "Requirement already satisfied: fsspec in /usr/local/lib/python3.11/dist-packages (from torch>=2.0.0->torchmetrics) (2025.3.0)\n",
            "Requirement already satisfied: nvidia-cuda-nvrtc-cu12==12.4.127 in /usr/local/lib/python3.11/dist-packages (from torch>=2.0.0->torchmetrics) (12.4.127)\n",
            "Requirement already satisfied: nvidia-cuda-runtime-cu12==12.4.127 in /usr/local/lib/python3.11/dist-packages (from torch>=2.0.0->torchmetrics) (12.4.127)\n",
            "Requirement already satisfied: nvidia-cuda-cupti-cu12==12.4.127 in /usr/local/lib/python3.11/dist-packages (from torch>=2.0.0->torchmetrics) (12.4.127)\n",
            "Requirement already satisfied: nvidia-cudnn-cu12==9.1.0.70 in /usr/local/lib/python3.11/dist-packages (from torch>=2.0.0->torchmetrics) (9.1.0.70)\n",
            "Requirement already satisfied: nvidia-cublas-cu12==12.4.5.8 in /usr/local/lib/python3.11/dist-packages (from torch>=2.0.0->torchmetrics) (12.4.5.8)\n",
            "Requirement already satisfied: nvidia-cufft-cu12==11.2.1.3 in /usr/local/lib/python3.11/dist-packages (from torch>=2.0.0->torchmetrics) (11.2.1.3)\n",
            "Requirement already satisfied: nvidia-curand-cu12==10.3.5.147 in /usr/local/lib/python3.11/dist-packages (from torch>=2.0.0->torchmetrics) (10.3.5.147)\n",
            "Requirement already satisfied: nvidia-cusolver-cu12==11.6.1.9 in /usr/local/lib/python3.11/dist-packages (from torch>=2.0.0->torchmetrics) (11.6.1.9)\n",
            "Requirement already satisfied: nvidia-cusparse-cu12==12.3.1.170 in /usr/local/lib/python3.11/dist-packages (from torch>=2.0.0->torchmetrics) (12.3.1.170)\n",
            "Requirement already satisfied: nvidia-cusparselt-cu12==0.6.2 in /usr/local/lib/python3.11/dist-packages (from torch>=2.0.0->torchmetrics) (0.6.2)\n",
            "Requirement already satisfied: nvidia-nccl-cu12==2.21.5 in /usr/local/lib/python3.11/dist-packages (from torch>=2.0.0->torchmetrics) (2.21.5)\n",
            "Requirement already satisfied: nvidia-nvtx-cu12==12.4.127 in /usr/local/lib/python3.11/dist-packages (from torch>=2.0.0->torchmetrics) (12.4.127)\n",
            "Requirement already satisfied: nvidia-nvjitlink-cu12==12.4.127 in /usr/local/lib/python3.11/dist-packages (from torch>=2.0.0->torchmetrics) (12.4.127)\n",
            "Requirement already satisfied: triton==3.2.0 in /usr/local/lib/python3.11/dist-packages (from torch>=2.0.0->torchmetrics) (3.2.0)\n",
            "Requirement already satisfied: sympy==1.13.1 in /usr/local/lib/python3.11/dist-packages (from torch>=2.0.0->torchmetrics) (1.13.1)\n",
            "Requirement already satisfied: mpmath<1.4,>=1.1.0 in /usr/local/lib/python3.11/dist-packages (from sympy==1.13.1->torch>=2.0.0->torchmetrics) (1.3.0)\n",
            "Requirement already satisfied: MarkupSafe>=2.0 in /usr/local/lib/python3.11/dist-packages (from jinja2->torch>=2.0.0->torchmetrics) (3.0.2)\n"
          ]
        }
      ]
    },
    {
      "cell_type": "code",
      "source": [
        "import torchmetrics\n",
        "from torchmetrics import Accuracy"
      ],
      "metadata": {
        "id": "TuVRHxoRIWKA"
      },
      "execution_count": 131,
      "outputs": []
    },
    {
      "cell_type": "code",
      "source": [
        "def train_batch(model: nn.Module,\n",
        "                loss_fn: nn.Module,\n",
        "                optimizer: torch.optim.SGD,\n",
        "                dataloader: DataLoader):\n",
        "\n",
        "  accuracy_fn = Accuracy(task=\"multiclass\",\n",
        "                         num_classes=10).to(device)\n",
        "\n",
        "  avg_loss, avg_acc = 0, 0\n",
        "\n",
        "  for batch, (X, y) in enumerate(dataloader):\n",
        "    X, y = X.to(device), y.to(device)\n",
        "\n",
        "    y_pred = model(X)\n",
        "\n",
        "    loss = loss_fn(y_pred, y)\n",
        "    avg_loss += loss\n",
        "\n",
        "    acc = accuracy_fn(y_pred, y)\n",
        "    avg_acc += acc\n",
        "\n",
        "    optimizer.zero_grad()\n",
        "    loss.backward()\n",
        "    optimizer.step()\n",
        "\n",
        "  avg_loss = avg_loss / len(dataloader)\n",
        "  avg_acc = avg_acc / len(dataloader)\n",
        "\n",
        "  print(f\"Average Training Loss: {avg_loss:.5f}  |  Average Training Accuracy: {(avg_acc * 100):.5f}%\")\n"
      ],
      "metadata": {
        "id": "EwReFyuc4Vf_"
      },
      "execution_count": 132,
      "outputs": []
    },
    {
      "cell_type": "code",
      "source": [
        "def test_batch(model: nn.Module,\n",
        "               loss_fn: nn.Module,\n",
        "               dataloader: DataLoader):\n",
        "\n",
        "  accuracy_fn = Accuracy(task=\"multiclass\",\n",
        "                         num_classes=10).to(device)\n",
        "\n",
        "  avg_loss, avg_acc = 0, 0\n",
        "\n",
        "  model.eval()\n",
        "  with torch.inference_mode():\n",
        "\n",
        "    for batch, (X, y) in enumerate(dataloader):\n",
        "      X, y = X.to(device), y.to(device)\n",
        "\n",
        "      y_pred = model(X)\n",
        "\n",
        "      loss = loss_fn(y_pred, y)\n",
        "      avg_loss += loss\n",
        "\n",
        "      acc = accuracy_fn(y_pred, y)\n",
        "      avg_acc += acc\n",
        "\n",
        "    avg_loss = avg_loss / len(dataloader)\n",
        "    avg_acc = avg_acc / len(dataloader)\n",
        "\n",
        "  print(f\"Average Testing Loss: {avg_loss:.5f}   |  Average Testing Accuracy: {(avg_acc * 100):.5f}%\\n\")"
      ],
      "metadata": {
        "id": "erLBDbgqBzzv"
      },
      "execution_count": 133,
      "outputs": []
    },
    {
      "cell_type": "code",
      "source": [
        "torch.manual_seed(42)\n",
        "torch.cuda.manual_seed_all(42)\n",
        "\n",
        "EPOCHS = 20\n",
        "\n",
        "for epoch in range(EPOCHS):\n",
        "  print(f\"\\nEpoch: {epoch+1}\\n---------------\")\n",
        "  train_batch(model=model,\n",
        "              loss_fn=loss_fn,\n",
        "              optimizer=optimizer,\n",
        "              dataloader=train_dataloader)\n",
        "  test_batch(model=model,\n",
        "             loss_fn=loss_fn,\n",
        "             dataloader=test_dataloader)\n",
        "  scheduler.step()"
      ],
      "metadata": {
        "colab": {
          "base_uri": "https://localhost:8080/"
        },
        "id": "QBLYFFDYB3zT",
        "outputId": "91e9506b-f81d-4bb7-c9bd-36a8b0fa77ab"
      },
      "execution_count": 134,
      "outputs": [
        {
          "output_type": "stream",
          "name": "stdout",
          "text": [
            "\n",
            "Epoch: 1\n",
            "---------------\n",
            "Average Training Loss: 2.70131  |  Average Training Accuracy: 10.19100%\n",
            "Average Testing Loss: 2.50141   |  Average Testing Accuracy: 10.72284%\n",
            "\n",
            "\n",
            "Epoch: 2\n",
            "---------------\n",
            "Average Training Loss: 1.31355  |  Average Training Accuracy: 53.19300%\n",
            "Average Testing Loss: 0.95874   |  Average Testing Accuracy: 66.20407%\n",
            "\n",
            "\n",
            "Epoch: 3\n",
            "---------------\n",
            "Average Training Loss: 0.96916  |  Average Training Accuracy: 66.00200%\n",
            "Average Testing Loss: 0.73302   |  Average Testing Accuracy: 75.16972%\n",
            "\n",
            "\n",
            "Epoch: 4\n",
            "---------------\n",
            "Average Training Loss: 0.80179  |  Average Training Accuracy: 72.10800%\n",
            "Average Testing Loss: 0.67679   |  Average Testing Accuracy: 77.00679%\n",
            "\n",
            "\n",
            "Epoch: 5\n",
            "---------------\n",
            "Average Training Loss: 0.71109  |  Average Training Accuracy: 75.32000%\n",
            "Average Testing Loss: 0.65784   |  Average Testing Accuracy: 77.75558%\n",
            "\n",
            "\n",
            "Epoch: 6\n",
            "---------------\n",
            "Average Training Loss: 0.65395  |  Average Training Accuracy: 77.30600%\n",
            "Average Testing Loss: 0.57040   |  Average Testing Accuracy: 80.41134%\n",
            "\n",
            "\n",
            "Epoch: 7\n",
            "---------------\n",
            "Average Training Loss: 0.61138  |  Average Training Accuracy: 78.96899%\n",
            "Average Testing Loss: 0.60273   |  Average Testing Accuracy: 79.76238%\n",
            "\n",
            "\n",
            "Epoch: 8\n",
            "---------------\n",
            "Average Training Loss: 0.58316  |  Average Training Accuracy: 79.78999%\n",
            "Average Testing Loss: 0.63401   |  Average Testing Accuracy: 78.99361%\n",
            "\n",
            "\n",
            "Epoch: 9\n",
            "---------------\n",
            "Average Training Loss: 0.55677  |  Average Training Accuracy: 80.71800%\n",
            "Average Testing Loss: 0.56959   |  Average Testing Accuracy: 81.34984%\n",
            "\n",
            "\n",
            "Epoch: 10\n",
            "---------------\n",
            "Average Training Loss: 0.52821  |  Average Training Accuracy: 81.85500%\n",
            "Average Testing Loss: 0.55752   |  Average Testing Accuracy: 81.34984%\n",
            "\n",
            "\n",
            "Epoch: 11\n",
            "---------------\n",
            "Average Training Loss: 0.50709  |  Average Training Accuracy: 82.58099%\n",
            "Average Testing Loss: 0.56921   |  Average Testing Accuracy: 81.59944%\n",
            "\n",
            "\n",
            "Epoch: 12\n",
            "---------------\n",
            "Average Training Loss: 0.47734  |  Average Training Accuracy: 83.62900%\n",
            "Average Testing Loss: 0.59990   |  Average Testing Accuracy: 80.90056%\n",
            "\n",
            "\n",
            "Epoch: 13\n",
            "---------------\n",
            "Average Training Loss: 0.45183  |  Average Training Accuracy: 84.46700%\n",
            "Average Testing Loss: 0.55742   |  Average Testing Accuracy: 82.09864%\n",
            "\n",
            "\n",
            "Epoch: 14\n",
            "---------------\n",
            "Average Training Loss: 0.42604  |  Average Training Accuracy: 85.64300%\n",
            "Average Testing Loss: 0.53997   |  Average Testing Accuracy: 83.21685%\n",
            "\n",
            "\n",
            "Epoch: 15\n",
            "---------------\n",
            "Average Training Loss: 0.40589  |  Average Training Accuracy: 86.04800%\n",
            "Average Testing Loss: 0.59018   |  Average Testing Accuracy: 83.08706%\n",
            "\n",
            "\n",
            "Epoch: 16\n",
            "---------------\n",
            "Average Training Loss: 0.38957  |  Average Training Accuracy: 86.65500%\n",
            "Average Testing Loss: 0.57110   |  Average Testing Accuracy: 81.79912%\n",
            "\n",
            "\n",
            "Epoch: 17\n",
            "---------------\n",
            "Average Training Loss: 0.37374  |  Average Training Accuracy: 87.25000%\n",
            "Average Testing Loss: 0.52253   |  Average Testing Accuracy: 82.99720%\n",
            "\n",
            "\n",
            "Epoch: 18\n",
            "---------------\n",
            "Average Training Loss: 0.35807  |  Average Training Accuracy: 87.83400%\n",
            "Average Testing Loss: 0.54824   |  Average Testing Accuracy: 83.50639%\n",
            "\n",
            "\n",
            "Epoch: 19\n",
            "---------------\n",
            "Average Training Loss: 0.34727  |  Average Training Accuracy: 88.18000%\n",
            "Average Testing Loss: 0.50056   |  Average Testing Accuracy: 84.31509%\n",
            "\n",
            "\n",
            "Epoch: 20\n",
            "---------------\n",
            "Average Training Loss: 0.33889  |  Average Training Accuracy: 88.50600%\n",
            "Average Testing Loss: 0.49184   |  Average Testing Accuracy: 84.78434%\n",
            "\n"
          ]
        }
      ]
    },
    {
      "cell_type": "markdown",
      "source": [
        "## 7. Save and Load the Model"
      ],
      "metadata": {
        "id": "0NJRzcpI32uu"
      }
    },
    {
      "cell_type": "code",
      "source": [
        "from pathlib import Path"
      ],
      "metadata": {
        "id": "e0nq0CdCtJPm"
      },
      "execution_count": 135,
      "outputs": []
    },
    {
      "cell_type": "code",
      "source": [
        "FOLDER = Path(\"saved_models\")\n",
        "FOLDER.mkdir(parents=True,\n",
        "             exist_ok=True)\n",
        "\n",
        "SAVE_PATH = FOLDER / \"model_85_acc.pth\"\n",
        "SAVE_PATH"
      ],
      "metadata": {
        "colab": {
          "base_uri": "https://localhost:8080/"
        },
        "id": "EhnfXltutSV7",
        "outputId": "7eb4f042-ea31-44d9-e0df-7e2accaf6999"
      },
      "execution_count": 136,
      "outputs": [
        {
          "output_type": "execute_result",
          "data": {
            "text/plain": [
              "PosixPath('saved_models/model_85_acc.pth')"
            ]
          },
          "metadata": {},
          "execution_count": 136
        }
      ]
    },
    {
      "cell_type": "code",
      "source": [
        "torch.save(obj=model.state_dict(),\n",
        "           f=SAVE_PATH)"
      ],
      "metadata": {
        "id": "xe1LIcbytsTd"
      },
      "execution_count": 137,
      "outputs": []
    },
    {
      "cell_type": "code",
      "source": [
        "new_model = CIFARCNN(in_dim=IN_DIM,\n",
        "                 hid_dim=HID_DIM,\n",
        "                 out_dim=OUT_DIM).to(device)"
      ],
      "metadata": {
        "collapsed": true,
        "id": "gDZBXn2VuHFg"
      },
      "execution_count": 141,
      "outputs": []
    },
    {
      "cell_type": "code",
      "source": [
        "new_model.load_state_dict(torch.load(f=SAVE_PATH))"
      ],
      "metadata": {
        "colab": {
          "base_uri": "https://localhost:8080/"
        },
        "id": "kurz574vuhGh",
        "outputId": "faac1c95-bbee-4c99-9c65-2c2177b642ac"
      },
      "execution_count": 142,
      "outputs": [
        {
          "output_type": "execute_result",
          "data": {
            "text/plain": [
              "<All keys matched successfully>"
            ]
          },
          "metadata": {},
          "execution_count": 142
        }
      ]
    },
    {
      "cell_type": "markdown",
      "source": [
        "## 8. Visualize Predictions"
      ],
      "metadata": {
        "id": "sG_ixIy14XKR"
      }
    },
    {
      "cell_type": "code",
      "source": [
        "new_model.eval()\n",
        "with torch.inference_mode():\n",
        "  for i in range(10):\n",
        "    X, y = next(iter(test_dataloader))\n",
        "    X, y = X.to(device), y.to(device)\n",
        "\n",
        "    y_pred = new_model(X)\n",
        "    class_index = torch.argmax(y_pred, dim=1)\n",
        "\n",
        "    X = X[0].permute(1, 2, 0).cpu()\n",
        "\n",
        "    plt.figure()\n",
        "    plt.imshow(X)\n",
        "    plt.axis(False)\n",
        "    plt.title(f\"Truth: {classes[y[0]]} | Prediction: {classes[class_index[0]]}\")"
      ],
      "metadata": {
        "colab": {
          "base_uri": "https://localhost:8080/",
          "height": 1000
        },
        "id": "cefkm4ALs_K9",
        "outputId": "95a89ae8-aad8-4925-a0fe-3d972884a485"
      },
      "execution_count": 152,
      "outputs": [
        {
          "output_type": "display_data",
          "data": {
            "text/plain": [
              "<Figure size 640x480 with 1 Axes>"
            ],
            "image/png": "[encoded data removed]"
          },
          "metadata": {}
        },
        {
          "output_type": "display_data",
          "data": {
            "text/plain": [
              "<Figure size 640x480 with 1 Axes>"
            ],
            "image/png": "[encoded data removed]"
          },
          "metadata": {}
        },
        {
          "output_type": "display_data",
          "data": {
            "text/plain": [
              "<Figure size 640x480 with 1 Axes>"
            ],
            "image/png": "[encoded data removed]"
          },
          "metadata": {}
        },
        {
          "output_type": "display_data",
          "data": {
            "text/plain": [
              "<Figure size 640x480 with 1 Axes>"
            ],
            "image/png": "[encoded data removed]"
          },
          "metadata": {}
        },
        {
          "output_type": "display_data",
          "data": {
            "text/plain": [
              "<Figure size 640x480 with 1 Axes>"
            ],
            "image/png": "[encoded data removed]"
          },
          "metadata": {}
        },
        {
          "output_type": "display_data",
          "data": {
            "text/plain": [
              "<Figure size 640x480 with 1 Axes>"
            ],
            "image/png": "[encoded data removed]"
          },
          "metadata": {}
        },
        {
          "output_type": "display_data",
          "data": {
            "text/plain": [
              "<Figure size 640x480 with 1 Axes>"
            ],
            "image/png": "[encoded data removed]"
          },
          "metadata": {}
        },
        {
          "output_type": "display_data",
          "data": {
            "text/plain": [
              "<Figure size 640x480 with 1 Axes>"
            ],
            "image/png": "[encoded data removed]"
          },
          "metadata": {}
        },
        {
          "output_type": "display_data",
          "data": {
            "text/plain": [
              "<Figure size 640x480 with 1 Axes>"
            ],
            "image/png": "[encoded data removed]"
          },
          "metadata": {}
        },
        {
          "output_type": "display_data",
          "data": {
            "text/plain": [
              "<Figure size 640x480 with 1 Axes>"
            ],
            "image/png": "[encoded data removed]"
          },
          "metadata": {}
        }
      ]
    }
  ]
}