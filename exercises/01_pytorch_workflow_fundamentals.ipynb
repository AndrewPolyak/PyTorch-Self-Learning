{
  "nbformat": 4,
  "nbformat_minor": 0,
  "metadata": {
    "colab": {
      "provenance": [],
      "toc_visible": true,
      "authorship_tag": "ABX9TyOGWOW+TS8vgUR+cP8GlwgE",
      "include_colab_link": true
    },
    "kernelspec": {
      "name": "python3",
      "display_name": "Python 3"
    },
    "language_info": {
      "name": "python"
    }
  },
  "cells": [
    {
      "cell_type": "markdown",
      "metadata": {
        "id": "view-in-github",
        "colab_type": "text"
      },
      "source": [
        "<a href=\"https://colab.research.google.com/github/AndrewPolyak/PyTorch-Self-Learning/blob/main/exercises/01_pytorch_workflow_fundamentals.ipynb\" target=\"_parent\"><img src=\"https://colab.research.google.com/assets/colab-badge.svg\" alt=\"Open In Colab\"/></a>"
      ]
    },
    {
      "cell_type": "markdown",
      "source": [
        "# PyTorch Workflow\n",
        "\n",
        "This is an example of a PyTorch end-to-end workflow based on Module 1 of Daniel Bourke's course found here: https://www.learnpytorch.io/01_pytorch_workflow/.\n",
        "\n",
        "The basis for the code comes from my experience with following along the course. Everything has been successfully implemented through plain knowledge acquired from the course.\n",
        "\n",
        "*By Andrew Polyak*"
      ],
      "metadata": {
        "id": "_m-AT2D3n0WG"
      }
    },
    {
      "cell_type": "code",
      "execution_count": 265,
      "metadata": {
        "id": "-riLcY5hnF99"
      },
      "outputs": [],
      "source": [
        "import torch\n",
        "from torch import nn\n",
        "\n",
        "import numpy as np\n",
        "import matplotlib.pyplot as plt\n",
        "\n",
        "from pathlib import Path"
      ]
    },
    {
      "cell_type": "markdown",
      "source": [
        "## Create Data\n",
        "\n",
        "Load basic regression model data\n",
        "\n",
        "x = features,\n",
        "y = labels"
      ],
      "metadata": {
        "id": "9UBEvL4WoGEB"
      }
    },
    {
      "cell_type": "code",
      "source": [
        "# Create X and y\n",
        "\n",
        "X = torch.arange(start=0, end=1, step=0.02).unsqueeze(dim=1)\n",
        "\n",
        "# Known parameters (for sake of example; parameters not known in typical case)\n",
        "bias = 0.3\n",
        "weight = 0.7\n",
        "\n",
        "# Linear regression formula used to create truth labels for known parameters\n",
        "y = bias * weight + X\n",
        "y"
      ],
      "metadata": {
        "colab": {
          "base_uri": "https://localhost:8080/"
        },
        "id": "Zq2mL-2EoLRP",
        "outputId": "feba8aab-b095-4ef9-d584-f0994ce90e12"
      },
      "execution_count": 266,
      "outputs": [
        {
          "output_type": "execute_result",
          "data": {
            "text/plain": [
              "tensor([[0.2100],\n",
              "        [0.2300],\n",
              "        [0.2500],\n",
              "        [0.2700],\n",
              "        [0.2900],\n",
              "        [0.3100],\n",
              "        [0.3300],\n",
              "        [0.3500],\n",
              "        [0.3700],\n",
              "        [0.3900],\n",
              "        [0.4100],\n",
              "        [0.4300],\n",
              "        [0.4500],\n",
              "        [0.4700],\n",
              "        [0.4900],\n",
              "        [0.5100],\n",
              "        [0.5300],\n",
              "        [0.5500],\n",
              "        [0.5700],\n",
              "        [0.5900],\n",
              "        [0.6100],\n",
              "        [0.6300],\n",
              "        [0.6500],\n",
              "        [0.6700],\n",
              "        [0.6900],\n",
              "        [0.7100],\n",
              "        [0.7300],\n",
              "        [0.7500],\n",
              "        [0.7700],\n",
              "        [0.7900],\n",
              "        [0.8100],\n",
              "        [0.8300],\n",
              "        [0.8500],\n",
              "        [0.8700],\n",
              "        [0.8900],\n",
              "        [0.9100],\n",
              "        [0.9300],\n",
              "        [0.9500],\n",
              "        [0.9700],\n",
              "        [0.9900],\n",
              "        [1.0100],\n",
              "        [1.0300],\n",
              "        [1.0500],\n",
              "        [1.0700],\n",
              "        [1.0900],\n",
              "        [1.1100],\n",
              "        [1.1300],\n",
              "        [1.1500],\n",
              "        [1.1700],\n",
              "        [1.1900]])"
            ]
          },
          "metadata": {},
          "execution_count": 266
        }
      ]
    },
    {
      "cell_type": "code",
      "source": [
        "# Create train and test sets\n",
        "\n",
        "train_split = int(0.8 * len(X))\n",
        "print(f\"{train_split} training items and {len(X) - train_split} testing items\\n\")\n",
        "\n",
        "# Create the training features and labels (40 items)\n",
        "X_train, y_train = X[:train_split], y[:train_split]\n",
        "\n",
        "# Create the testing features and labels (30 items)\n",
        "X_test, y_test = X[train_split:], y[train_split:]\n",
        "\n",
        "print(f\"Training values: {X_train}\\nTraining labels: {y_train}\\n\")\n",
        "print(f\"Testing values: {X_test}\\nTesting labels: {y_test}\")"
      ],
      "metadata": {
        "colab": {
          "base_uri": "https://localhost:8080/"
        },
        "id": "4M7dVhzNotUQ",
        "outputId": "aae5cee1-d33f-47fa-dd79-312c1e834691"
      },
      "execution_count": 267,
      "outputs": [
        {
          "output_type": "stream",
          "name": "stdout",
          "text": [
            "40 training items and 10 testing items\n",
            "\n",
            "Training values: tensor([[0.0000],\n",
            "        [0.0200],\n",
            "        [0.0400],\n",
            "        [0.0600],\n",
            "        [0.0800],\n",
            "        [0.1000],\n",
            "        [0.1200],\n",
            "        [0.1400],\n",
            "        [0.1600],\n",
            "        [0.1800],\n",
            "        [0.2000],\n",
            "        [0.2200],\n",
            "        [0.2400],\n",
            "        [0.2600],\n",
            "        [0.2800],\n",
            "        [0.3000],\n",
            "        [0.3200],\n",
            "        [0.3400],\n",
            "        [0.3600],\n",
            "        [0.3800],\n",
            "        [0.4000],\n",
            "        [0.4200],\n",
            "        [0.4400],\n",
            "        [0.4600],\n",
            "        [0.4800],\n",
            "        [0.5000],\n",
            "        [0.5200],\n",
            "        [0.5400],\n",
            "        [0.5600],\n",
            "        [0.5800],\n",
            "        [0.6000],\n",
            "        [0.6200],\n",
            "        [0.6400],\n",
            "        [0.6600],\n",
            "        [0.6800],\n",
            "        [0.7000],\n",
            "        [0.7200],\n",
            "        [0.7400],\n",
            "        [0.7600],\n",
            "        [0.7800]])\n",
            "Training labels: tensor([[0.2100],\n",
            "        [0.2300],\n",
            "        [0.2500],\n",
            "        [0.2700],\n",
            "        [0.2900],\n",
            "        [0.3100],\n",
            "        [0.3300],\n",
            "        [0.3500],\n",
            "        [0.3700],\n",
            "        [0.3900],\n",
            "        [0.4100],\n",
            "        [0.4300],\n",
            "        [0.4500],\n",
            "        [0.4700],\n",
            "        [0.4900],\n",
            "        [0.5100],\n",
            "        [0.5300],\n",
            "        [0.5500],\n",
            "        [0.5700],\n",
            "        [0.5900],\n",
            "        [0.6100],\n",
            "        [0.6300],\n",
            "        [0.6500],\n",
            "        [0.6700],\n",
            "        [0.6900],\n",
            "        [0.7100],\n",
            "        [0.7300],\n",
            "        [0.7500],\n",
            "        [0.7700],\n",
            "        [0.7900],\n",
            "        [0.8100],\n",
            "        [0.8300],\n",
            "        [0.8500],\n",
            "        [0.8700],\n",
            "        [0.8900],\n",
            "        [0.9100],\n",
            "        [0.9300],\n",
            "        [0.9500],\n",
            "        [0.9700],\n",
            "        [0.9900]])\n",
            "\n",
            "Testing values: tensor([[0.8000],\n",
            "        [0.8200],\n",
            "        [0.8400],\n",
            "        [0.8600],\n",
            "        [0.8800],\n",
            "        [0.9000],\n",
            "        [0.9200],\n",
            "        [0.9400],\n",
            "        [0.9600],\n",
            "        [0.9800]])\n",
            "Testing labels: tensor([[1.0100],\n",
            "        [1.0300],\n",
            "        [1.0500],\n",
            "        [1.0700],\n",
            "        [1.0900],\n",
            "        [1.1100],\n",
            "        [1.1300],\n",
            "        [1.1500],\n",
            "        [1.1700],\n",
            "        [1.1900]])\n"
          ]
        }
      ]
    },
    {
      "cell_type": "markdown",
      "source": [
        "## Create Model\n",
        "\n",
        "Create basic NN model that leverages Linear activation function"
      ],
      "metadata": {
        "id": "u-lnuGwqqYrZ"
      }
    },
    {
      "cell_type": "code",
      "source": [
        "# Define neural network\n",
        "\n",
        "class LinearRegressionModel(nn.Module):\n",
        "  def __init__(self):\n",
        "    super().__init__()\n",
        "    self.layer = nn.Linear(in_features=1, out_features=1)\n",
        "\n",
        "  def forward(self, x):\n",
        "    return self.layer(x)"
      ],
      "metadata": {
        "id": "aMFDrV21qhBq"
      },
      "execution_count": 268,
      "outputs": []
    },
    {
      "cell_type": "code",
      "source": [
        "# Instantiate model and confirm parameters\n",
        "\n",
        "torch.manual_seed(42)\n",
        "\n",
        "model = LinearRegressionModel()\n",
        "print(f\"Model: {model}\\nParameters: {model.state_dict()}\")"
      ],
      "metadata": {
        "colab": {
          "base_uri": "https://localhost:8080/"
        },
        "id": "yaAPyB3PrGaN",
        "outputId": "5c63577d-728f-4033-cdc7-172ec975481c"
      },
      "execution_count": 269,
      "outputs": [
        {
          "output_type": "stream",
          "name": "stdout",
          "text": [
            "Model: LinearRegressionModel(\n",
            "  (layer): Linear(in_features=1, out_features=1, bias=True)\n",
            ")\n",
            "Parameters: OrderedDict([('layer.weight', tensor([[0.7645]])), ('layer.bias', tensor([0.8300]))])\n"
          ]
        }
      ]
    },
    {
      "cell_type": "markdown",
      "source": [
        "## Create Training and Evaluation Loop\n",
        "\n",
        "Define optimizer, loss function, and training / evaluation loop"
      ],
      "metadata": {
        "id": "lo-qLyP5rrXm"
      }
    },
    {
      "cell_type": "code",
      "source": [
        "# Leverage Stochastic Gradient Descent for optimization\n",
        "optimizer = torch.optim.SGD(params=model.parameters(), lr=0.02)\n",
        "\n",
        "# Leverage Mean Absolute Error for loss function\n",
        "loss_fn = nn.L1Loss()\n",
        "\n",
        "epochs = 200\n",
        "\n",
        "epoch_list = []\n",
        "loss_list = []\n",
        "test_loss_list = []\n",
        "\n",
        "for epoch in range(epochs):\n",
        "\n",
        "  # Set model to train mode\n",
        "  model.train()\n",
        "\n",
        "  # Get the prediction --> Use the training features defined earlier (first 80%)\n",
        "  y_pred = model(X_train)\n",
        "\n",
        "  # Get the loss --> Compare the predicted labels against the true labels\n",
        "  loss = loss_fn(y_pred, y_train)\n",
        "\n",
        "  # Zero the gradients\n",
        "  optimizer.zero_grad()\n",
        "\n",
        "  # Perform backpropagation\n",
        "  loss.backward()\n",
        "\n",
        "  # Perform gradient descent\n",
        "  optimizer.step()\n",
        "\n",
        "  # Set model to evaluation mode\n",
        "  model.eval()\n",
        "\n",
        "  # Get the prediction --> Use the testing features defined earlier (second 80%)\n",
        "  y_pred_test = model(X_test)\n",
        "\n",
        "  # Get the loss --> Compare the predicted labels against the true labels\n",
        "  test_loss = loss_fn(y_pred_test, y_test)\n",
        "\n",
        "  if epoch % 10 == 0:\n",
        "    print(f\"Epoch: {epoch} | Loss: {loss} | Test Loss: {test_loss}\")\n",
        "\n",
        "    epoch_list.append(epoch)\n",
        "    loss_list.append(loss)\n",
        "    test_loss_list.append(test_loss)"
      ],
      "metadata": {
        "colab": {
          "base_uri": "https://localhost:8080/"
        },
        "id": "DqFRtmDXrzJD",
        "outputId": "1971c518-5d16-43ba-eb3b-fbdce86ab39c"
      },
      "execution_count": 270,
      "outputs": [
        {
          "output_type": "stream",
          "name": "stdout",
          "text": [
            "Epoch: 0 | Loss: 0.5281779170036316 | Test Loss: 0.3835051953792572\n",
            "Epoch: 10 | Loss: 0.29775822162628174 | Test Loss: 0.11408556997776031\n",
            "Epoch: 20 | Loss: 0.09950893372297287 | Test Loss: 0.11925448477268219\n",
            "Epoch: 30 | Loss: 0.07624689489603043 | Test Loss: 0.162189319729805\n",
            "Epoch: 40 | Loss: 0.06879310309886932 | Test Loss: 0.15806186199188232\n",
            "Epoch: 50 | Loss: 0.06188695505261421 | Test Loss: 0.14289072155952454\n",
            "Epoch: 60 | Loss: 0.05501287057995796 | Test Loss: 0.12771956622600555\n",
            "Epoch: 70 | Loss: 0.048155978322029114 | Test Loss: 0.11117460578680038\n",
            "Epoch: 80 | Loss: 0.04127970710396767 | Test Loss: 0.09462960809469223\n",
            "Epoch: 90 | Loss: 0.034408967941999435 | Test Loss: 0.07945845276117325\n",
            "Epoch: 100 | Loss: 0.027550052851438522 | Test Loss: 0.06291349977254868\n",
            "Epoch: 110 | Loss: 0.02067243680357933 | Test Loss: 0.04636852815747261\n",
            "Epoch: 120 | Loss: 0.013805058784782887 | Test Loss: 0.031197410076856613\n",
            "Epoch: 130 | Loss: 0.0069427876733243465 | Test Loss: 0.01465255580842495\n",
            "Epoch: 140 | Loss: 0.0025282048154622316 | Test Loss: 0.027593672275543213\n",
            "Epoch: 150 | Loss: 0.0025282048154622316 | Test Loss: 0.027593672275543213\n",
            "Epoch: 160 | Loss: 0.0025282048154622316 | Test Loss: 0.027593672275543213\n",
            "Epoch: 170 | Loss: 0.0025282048154622316 | Test Loss: 0.027593672275543213\n",
            "Epoch: 180 | Loss: 0.0025282048154622316 | Test Loss: 0.027593672275543213\n",
            "Epoch: 190 | Loss: 0.0025282048154622316 | Test Loss: 0.027593672275543213\n"
          ]
        }
      ]
    },
    {
      "cell_type": "code",
      "source": [
        "# Plot loss over time (epochs)\n",
        "\n",
        "plt.figure()\n",
        "plt.plot(epoch_list, np.array(torch.tensor(loss_list).cpu().numpy()), label=\"Loss\")\n",
        "plt.plot(epoch_list, np.array(torch.tensor(test_loss_list).cpu().numpy()), label=\"Test Loss\")\n",
        "plt.ylabel(\"Loss\")\n",
        "plt.xlabel(\"Epochs\")\n",
        "plt.legend()"
      ],
      "metadata": {
        "colab": {
          "base_uri": "https://localhost:8080/",
          "height": 466
        },
        "id": "cfnVcQjGws5U",
        "outputId": "6c963161-6d33-4696-ef49-e2e542cbf581"
      },
      "execution_count": 271,
      "outputs": [
        {
          "output_type": "execute_result",
          "data": {
            "text/plain": [
              "<matplotlib.legend.Legend at 0x7f7297003fd0>"
            ]
          },
          "metadata": {},
          "execution_count": 271
        },
        {
          "output_type": "display_data",
          "data": {
            "text/plain": [
              "<Figure size 640x480 with 1 Axes>"
            ],
            "image/png": "[encoded data removed]"
          },
          "metadata": {}
        }
      ]
    },
    {
      "cell_type": "markdown",
      "source": [
        "## Make Prediction\n",
        "\n",
        "The red dots should overlap the green"
      ],
      "metadata": {
        "id": "cD5b1bSe6igo"
      }
    },
    {
      "cell_type": "code",
      "source": [
        "# Make prediction and plot results\n",
        "\n",
        "with torch.inference_mode():\n",
        "  prediction = model(X_test)\n",
        "\n",
        "plt.figure(figsize=(10, 7))\n",
        "\n",
        "plt.scatter(X_train, y_train, c=\"b\", s=4, label=\"Training data\")\n",
        "\n",
        "plt.scatter(X_test, y_test, c=\"g\", s=4, label=\"Testing data\")\n",
        "\n",
        "plt.scatter(X_test, prediction, c=\"r\", s=4, label=\"Prediction\")\n",
        "\n",
        "plt.legend()"
      ],
      "metadata": {
        "colab": {
          "base_uri": "https://localhost:8080/",
          "height": 616
        },
        "id": "l-EIdPSJ5Kqo",
        "outputId": "df8f5ac9-83ce-4422-e16d-294fa7fe32c3"
      },
      "execution_count": 272,
      "outputs": [
        {
          "output_type": "execute_result",
          "data": {
            "text/plain": [
              "<matplotlib.legend.Legend at 0x7f72784fdb50>"
            ]
          },
          "metadata": {},
          "execution_count": 272
        },
        {
          "output_type": "display_data",
          "data": {
            "text/plain": [
              "<Figure size 1000x700 with 1 Axes>"
            ],
            "image/png": "[encoded data removed]"
          },
          "metadata": {}
        }
      ]
    },
    {
      "cell_type": "markdown",
      "source": [
        "## Save and Load Model"
      ],
      "metadata": {
        "id": "hEMmwopr7Rs-"
      }
    },
    {
      "cell_type": "code",
      "source": [
        "# Define save path\n",
        "\n",
        "FOLDER = Path('models')\n",
        "FOLDER.mkdir(parents=True, exist_ok=True)\n",
        "\n",
        "NAME = 'first_model'\n",
        "\n",
        "PATH = FOLDER / NAME\n",
        "PATH"
      ],
      "metadata": {
        "colab": {
          "base_uri": "https://localhost:8080/"
        },
        "id": "c1oWrUle7Unb",
        "outputId": "1e439f2e-eae2-47bc-da6b-f571c41f6d1b"
      },
      "execution_count": 273,
      "outputs": [
        {
          "output_type": "execute_result",
          "data": {
            "text/plain": [
              "PosixPath('models/first_model')"
            ]
          },
          "metadata": {},
          "execution_count": 273
        }
      ]
    },
    {
      "cell_type": "code",
      "source": [
        "# Save model parameters\n",
        "\n",
        "torch.save(model.state_dict(), PATH)"
      ],
      "metadata": {
        "id": "6f67erV58C94"
      },
      "execution_count": 274,
      "outputs": []
    },
    {
      "cell_type": "code",
      "source": [
        "# Load model\n",
        "\n",
        "loaded_model = LinearRegressionModel()\n",
        "\n",
        "loaded_model.load_state_dict(torch.load(PATH))\n",
        "\n",
        "# True if the same model state has been loaded\n",
        "model.state_dict() == loaded_model.state_dict()"
      ],
      "metadata": {
        "colab": {
          "base_uri": "https://localhost:8080/"
        },
        "id": "jd-tcL_V8bzT",
        "outputId": "d88eefbd-8402-4ae1-d11d-f3d5f79fc2b9"
      },
      "execution_count": 275,
      "outputs": [
        {
          "output_type": "execute_result",
          "data": {
            "text/plain": [
              "True"
            ]
          },
          "metadata": {},
          "execution_count": 275
        }
      ]
    }
  ]
}