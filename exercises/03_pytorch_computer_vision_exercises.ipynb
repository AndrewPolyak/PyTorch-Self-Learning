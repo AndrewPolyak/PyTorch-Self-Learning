{
  "nbformat": 4,
  "nbformat_minor": 0,
  "metadata": {
    "colab": {
      "name": "03_pytorch_computer_vision_exercises.ipynb",
      "provenance": [],
      "gpuType": "T4",
      "include_colab_link": true
    },
    "kernelspec": {
      "name": "python3",
      "display_name": "Python 3"
    },
    "language_info": {
      "name": "python"
    },
    "accelerator": "GPU"
  },
  "cells": [
    {
      "cell_type": "markdown",
      "metadata": {
        "id": "view-in-github",
        "colab_type": "text"
      },
      "source": [
        "<a href=\"https://colab.research.google.com/github/AndrewPolyak/PyTorch-Self-Learning/blob/main/exercises/03_pytorch_computer_vision_exercises.ipynb\" target=\"_parent\"><img src=\"https://colab.research.google.com/assets/colab-badge.svg\" alt=\"Open In Colab\"/></a>"
      ]
    },
    {
      "cell_type": "markdown",
      "source": [
        "# Andrew Polyak PyTorch Self-Learning\n",
        "\n",
        "This represents an original attempt at completing these practice materials provided by Daniel Bourke."
      ],
      "metadata": {
        "id": "QeR-rxS1wSzf"
      }
    },
    {
      "cell_type": "markdown",
      "source": [
        "# 03. PyTorch Computer Vision Exercises\n",
        "\n",
        "The following is a collection of exercises based on computer vision fundamentals in PyTorch.\n",
        "\n",
        "They're a bunch of fun.\n",
        "\n",
        "You're going to get to write plenty of code!\n",
        "\n",
        "## Resources\n",
        "\n",
        "1. These exercises are based on [notebook 03 of the Learn PyTorch for Deep Learning course](https://www.learnpytorch.io/03_pytorch_computer_vision/).\n",
        "2. See a live [walkthrough of the solutions (errors and all) on YouTube](https://youtu.be/_PibmqpEyhA).\n",
        "  * **Note:** Going through these exercises took me just over 3 hours of solid coding, so you should expect around the same.\n",
        "3. See [other solutions on the course GitHub](https://github.com/mrdbourke/pytorch-deep-learning/tree/main/extras/solutions)."
      ],
      "metadata": {
        "id": "Vex99np2wFVt"
      }
    },
    {
      "cell_type": "code",
      "source": [
        "# Check for GPU\n",
        "!nvidia-smi"
      ],
      "metadata": {
        "colab": {
          "base_uri": "https://localhost:8080/"
        },
        "id": "GaeYzOTLwWh2",
        "outputId": "660a0839-4a08-40db-e453-1e337fff8158"
      },
      "execution_count": 2,
      "outputs": [
        {
          "output_type": "stream",
          "name": "stdout",
          "text": [
            "Fri Mar 28 04:39:29 2025       \n",
            "+-----------------------------------------------------------------------------------------+\n",
            "| NVIDIA-SMI 550.54.15              Driver Version: 550.54.15      CUDA Version: 12.4     |\n",
            "|-----------------------------------------+------------------------+----------------------+\n",
            "| GPU  Name                 Persistence-M | Bus-Id          Disp.A | Volatile Uncorr. ECC |\n",
            "| Fan  Temp   Perf          Pwr:Usage/Cap |           Memory-Usage | GPU-Util  Compute M. |\n",
            "|                                         |                        |               MIG M. |\n",
            "|=========================================+========================+======================|\n",
            "|   0  Tesla T4                       Off |   00000000:00:04.0 Off |                    0 |\n",
            "| N/A   54C    P8             10W /   70W |       0MiB /  15360MiB |      0%      Default |\n",
            "|                                         |                        |                  N/A |\n",
            "+-----------------------------------------+------------------------+----------------------+\n",
            "                                                                                         \n",
            "+-----------------------------------------------------------------------------------------+\n",
            "| Processes:                                                                              |\n",
            "|  GPU   GI   CI        PID   Type   Process name                              GPU Memory |\n",
            "|        ID   ID                                                               Usage      |\n",
            "|=========================================================================================|\n",
            "|  No running processes found                                                             |\n",
            "+-----------------------------------------------------------------------------------------+\n"
          ]
        }
      ]
    },
    {
      "cell_type": "code",
      "source": [
        "# Import torch\n",
        "import torch\n",
        "\n",
        "# Exercises require PyTorch > 1.10.0\n",
        "print(torch.__version__)\n",
        "\n",
        "# TODO: Setup device agnostic code\n",
        "device = \"cuda\" if torch.cuda.is_available() else \"cpu\"\n",
        "device\n",
        "\n",
        "# ✓"
      ],
      "metadata": {
        "colab": {
          "base_uri": "https://localhost:8080/",
          "height": 53
        },
        "id": "DNwZLMbCzJLk",
        "outputId": "7995d977-da35-433a-ec98-2f0e6249c652"
      },
      "execution_count": 3,
      "outputs": [
        {
          "output_type": "stream",
          "name": "stdout",
          "text": [
            "2.6.0+cu124\n"
          ]
        },
        {
          "output_type": "execute_result",
          "data": {
            "text/plain": [
              "'cuda'"
            ],
            "application/vnd.google.colaboratory.intrinsic+json": {
              "type": "string"
            }
          },
          "metadata": {},
          "execution_count": 3
        }
      ]
    },
    {
      "cell_type": "markdown",
      "source": [
        "## 1. What are 3 areas in industry where computer vision is currently being used?"
      ],
      "metadata": {
        "id": "FSFX7tc1w-en"
      }
    },
    {
      "cell_type": "markdown",
      "source": [
        "1. Autonomous vehicles / self-driving vehicles. Tesla is *the* example. https://research.aimultiple.com/computer-vision-use-cases/\n",
        "2. Optical character recognition for intelligent document processing\n",
        "3. Argriculture. Automated weed detection and targeted srpaying. Can accuractely distinguish between crops and weeds. https://blog.roboflow.com/computer-vision-applications/"
      ],
      "metadata": {
        "id": "VyWRkvWGbCXj"
      }
    },
    {
      "cell_type": "markdown",
      "source": [
        "## 2. Search \"what is overfitting in machine learning\" and write down a sentence about what you find."
      ],
      "metadata": {
        "id": "oBK-WI6YxDYa"
      }
    },
    {
      "cell_type": "markdown",
      "source": [
        "When a model is unable to generalize / make accuract predictions on new data because it has fit itself too closely or even exactly to its training data. https://www.ibm.com/think/topics/overfitting"
      ],
      "metadata": {
        "id": "d1rxD6GObCqh"
      }
    },
    {
      "cell_type": "markdown",
      "source": [
        "## 3. Search \"ways to prevent overfitting in machine learning\", write down 3 of the things you find and a sentence about each.\n",
        "> **Note:** there are lots of these, so don't worry too much about all of them, just pick 3 and start with those."
      ],
      "metadata": {
        "id": "XeYFEqw8xK26"
      }
    },
    {
      "cell_type": "markdown",
      "source": [
        "1. Early stopping --> stop training before the model starts learning the noise within the model.\n",
        "2. Train with more data --> Expand the training set to provide more oopportuntiies to parse out the dominant relationship among the input and output variables.\n",
        "3. Data augmentation --> Add some noisy data to the model training\n",
        "\n",
        "https://www.ibm.com/think/topics/overfitting"
      ],
      "metadata": {
        "id": "ocvOdWKcbEKr"
      }
    },
    {
      "cell_type": "markdown",
      "source": [
        "## 4. Spend 20-minutes reading and clicking through the [CNN Explainer website](https://poloclub.github.io/cnn-explainer/).\n",
        "\n",
        "* Upload your own example image using the \"upload\" button on the website and see what happens in each layer of a CNN as your image passes through it."
      ],
      "metadata": {
        "id": "DKdEEFEqxM-8"
      }
    },
    {
      "cell_type": "markdown",
      "source": [
        "Done."
      ],
      "metadata": {
        "id": "TqZaJIRMbFtS"
      }
    },
    {
      "cell_type": "markdown",
      "source": [
        "## 5. Load the [`torchvision.datasets.MNIST()`](https://pytorch.org/vision/stable/generated/torchvision.datasets.MNIST.html#torchvision.datasets.MNIST) train and test datasets."
      ],
      "metadata": {
        "id": "lvf-3pODxXYI"
      }
    },
    {
      "cell_type": "code",
      "source": [
        "import torchvision"
      ],
      "metadata": {
        "id": "SHjeuN81bHza"
      },
      "execution_count": 4,
      "outputs": []
    },
    {
      "cell_type": "code",
      "source": [
        "training_data = torchvision.datasets.MNIST(root=\"train_data\",\n",
        "                                           train=True,\n",
        "                                           download=True,\n",
        "                                           transform=torchvision.transforms.ToTensor(),\n",
        "                                           target_transform=None)\n",
        "testing_data = torchvision.datasets.MNIST(root=\"test_data\",\n",
        "                                           train=False,\n",
        "                                           download=True,\n",
        "                                           transform=torchvision.transforms.ToTensor(),\n",
        "                                           target_transform=None)\n",
        "\n",
        "# ✓"
      ],
      "metadata": {
        "id": "FQNdE925yOzz",
        "outputId": "ef60a7ce-80e3-4ef8-8a94-017aeafe74cc",
        "colab": {
          "base_uri": "https://localhost:8080/"
        }
      },
      "execution_count": 5,
      "outputs": [
        {
          "output_type": "stream",
          "name": "stderr",
          "text": [
            "100%|██████████| 9.91M/9.91M [00:00<00:00, 11.6MB/s]\n",
            "100%|██████████| 28.9k/28.9k [00:00<00:00, 343kB/s]\n",
            "100%|██████████| 1.65M/1.65M [00:00<00:00, 3.18MB/s]\n",
            "100%|██████████| 4.54k/4.54k [00:00<00:00, 5.94MB/s]\n",
            "100%|██████████| 9.91M/9.91M [00:00<00:00, 12.5MB/s]\n",
            "100%|██████████| 28.9k/28.9k [00:00<00:00, 341kB/s]\n",
            "100%|██████████| 1.65M/1.65M [00:00<00:00, 3.18MB/s]\n",
            "100%|██████████| 4.54k/4.54k [00:00<00:00, 5.80MB/s]\n"
          ]
        }
      ]
    },
    {
      "cell_type": "code",
      "source": [
        "training_data\n",
        "\n",
        "# ✓"
      ],
      "metadata": {
        "id": "MP4i_aH7zJUt",
        "outputId": "016a3433-4bed-4df0-f698-e8603e5f371f",
        "colab": {
          "base_uri": "https://localhost:8080/"
        }
      },
      "execution_count": 6,
      "outputs": [
        {
          "output_type": "execute_result",
          "data": {
            "text/plain": [
              "Dataset MNIST\n",
              "    Number of datapoints: 60000\n",
              "    Root location: train_data\n",
              "    Split: Train\n",
              "    StandardTransform\n",
              "Transform: ToTensor()"
            ]
          },
          "metadata": {},
          "execution_count": 6
        }
      ]
    },
    {
      "cell_type": "code",
      "source": [
        "testing_data\n",
        "\n",
        "# ✓"
      ],
      "metadata": {
        "id": "05NI67H_y1G9",
        "outputId": "886f19f0-5887-4311-d254-d6ef264a0fa0",
        "colab": {
          "base_uri": "https://localhost:8080/"
        }
      },
      "execution_count": 7,
      "outputs": [
        {
          "output_type": "execute_result",
          "data": {
            "text/plain": [
              "Dataset MNIST\n",
              "    Number of datapoints: 10000\n",
              "    Root location: test_data\n",
              "    Split: Test\n",
              "    StandardTransform\n",
              "Transform: ToTensor()"
            ]
          },
          "metadata": {},
          "execution_count": 7
        }
      ]
    },
    {
      "cell_type": "markdown",
      "source": [
        "## 6. Visualize at least 5 different samples of the MNIST training dataset."
      ],
      "metadata": {
        "id": "qxZW-uAbxe_F"
      }
    },
    {
      "cell_type": "code",
      "source": [
        "import matplotlib.pyplot as plt"
      ],
      "metadata": {
        "id": "QVFsYi1PbItE"
      },
      "execution_count": 8,
      "outputs": []
    },
    {
      "cell_type": "code",
      "source": [
        "X, y = training_data[0]\n",
        "plt.figure()\n",
        "plt.imshow(X.squeeze(), cmap=\"gray\")\n",
        "plt.title(y)\n",
        "\n",
        "X, y = training_data[2]\n",
        "plt.figure()\n",
        "plt.imshow(X.squeeze(), cmap=\"gray\")\n",
        "plt.title(y)\n",
        "\n",
        "X, y = training_data[3]\n",
        "plt.figure()\n",
        "plt.imshow(X.squeeze(), cmap=\"gray\")\n",
        "plt.title(y)\n",
        "\n",
        "X, y = training_data[4]\n",
        "plt.figure()\n",
        "plt.imshow(X.squeeze(), cmap=\"gray\")\n",
        "plt.title(y)\n",
        "\n",
        "X, y = training_data[5]\n",
        "plt.figure()\n",
        "plt.imshow(X.squeeze(), cmap=\"gray\")\n",
        "plt.title(y)\n",
        "\n",
        "# ✓"
      ],
      "metadata": {
        "id": "ppFzpYHtzgXg",
        "outputId": "74162730-dc2c-453f-bc26-777cc72416bc",
        "colab": {
          "base_uri": "https://localhost:8080/",
          "height": 1000
        }
      },
      "execution_count": 9,
      "outputs": [
        {
          "output_type": "execute_result",
          "data": {
            "text/plain": [
              "Text(0.5, 1.0, '2')"
            ]
          },
          "metadata": {},
          "execution_count": 9
        },
        {
          "output_type": "display_data",
          "data": {
            "text/plain": [
              "<Figure size 640x480 with 1 Axes>"
            ],
            "image/png": "[encoded data removed]"
          },
          "metadata": {}
        },
        {
          "output_type": "display_data",
          "data": {
            "text/plain": [
              "<Figure size 640x480 with 1 Axes>"
            ],
            "image/png": "[encoded data removed]"
          },
          "metadata": {}
        },
        {
          "output_type": "display_data",
          "data": {
            "text/plain": [
              "<Figure size 640x480 with 1 Axes>"
            ],
            "image/png": "[encoded data removed]"
          },
          "metadata": {}
        },
        {
          "output_type": "display_data",
          "data": {
            "text/plain": [
              "<Figure size 640x480 with 1 Axes>"
            ],
            "image/png": "[encoded data removed]"
          },
          "metadata": {}
        },
        {
          "output_type": "display_data",
          "data": {
            "text/plain": [
              "<Figure size 640x480 with 1 Axes>"
            ],
            "image/png": "[encoded data removed]"
          },
          "metadata": {}
        }
      ]
    },
    {
      "cell_type": "markdown",
      "source": [
        "## 7. Turn the MNIST train and test datasets into dataloaders using `torch.utils.data.DataLoader`, set the `batch_size=32`."
      ],
      "metadata": {
        "id": "JAPDzW0wxhi3"
      }
    },
    {
      "cell_type": "code",
      "source": [
        "from torch.utils.data import DataLoader"
      ],
      "metadata": {
        "id": "ALA6MPcFbJXQ"
      },
      "execution_count": 10,
      "outputs": []
    },
    {
      "cell_type": "code",
      "source": [
        "train_dataloader = DataLoader(training_data,\n",
        "                              batch_size=32,\n",
        "                              shuffle=True)\n",
        "test_dataloader = DataLoader(testing_data,\n",
        "                             batch_size=32,\n",
        "                             shuffle=False)\n",
        "\n",
        "# ✓"
      ],
      "metadata": {
        "id": "ZtwJRy2z1hQ_"
      },
      "execution_count": 11,
      "outputs": []
    },
    {
      "cell_type": "markdown",
      "source": [
        "## 8. Recreate `model_2` used in notebook 03 (the same model from the [CNN Explainer website](https://poloclub.github.io/cnn-explainer/), also known as TinyVGG) capable of fitting on the MNIST dataset."
      ],
      "metadata": {
        "id": "bCCVfXk5xjYS"
      }
    },
    {
      "cell_type": "code",
      "source": [
        "from torch import nn"
      ],
      "metadata": {
        "id": "Ef1nowKY2ZEx"
      },
      "execution_count": 12,
      "outputs": []
    },
    {
      "cell_type": "code",
      "source": [
        "class TinyVGGModel(nn.Module):\n",
        "  def __init__(self, in_dim, hid_dim, out_dim):\n",
        "    super().__init__()\n",
        "    self.conv_block_1 = nn.Sequential(\n",
        "        nn.Conv2d(in_channels=in_dim,\n",
        "                  out_channels=hid_dim,\n",
        "                  kernel_size=3,\n",
        "                  stride=1,\n",
        "                  padding=0),\n",
        "        nn.ReLU(),\n",
        "        nn.Conv2d(in_channels=hid_dim,\n",
        "                  out_channels=hid_dim,\n",
        "                  kernel_size=3,\n",
        "                  stride=1,\n",
        "                  padding=0),\n",
        "        nn.ReLU(),\n",
        "        nn.MaxPool2d(kernel_size=3,\n",
        "                     stride=1,\n",
        "                     padding=0)\n",
        "    )\n",
        "    self.conv_block_2 = nn.Sequential(\n",
        "        nn.Conv2d(in_channels=hid_dim,\n",
        "                  out_channels=hid_dim,\n",
        "                  kernel_size=3,\n",
        "                  stride=1,\n",
        "                  padding=0),\n",
        "        nn.ReLU(),\n",
        "        nn.Conv2d(in_channels=hid_dim,\n",
        "                  out_channels=hid_dim,\n",
        "                  kernel_size=3,\n",
        "                  stride=1,\n",
        "                  padding=0),\n",
        "        nn.ReLU(),\n",
        "        nn.MaxPool2d(kernel_size=3,\n",
        "                     stride=1,\n",
        "                     padding=0)\n",
        "    )\n",
        "    self.output_block = nn.Sequential(\n",
        "        nn.Flatten(),\n",
        "        nn.Linear(in_features=hid_dim*256,\n",
        "                  out_features=out_dim)\n",
        "    )\n",
        "\n",
        "  def forward(self, x):\n",
        "    return self.output_block(self.conv_block_2(self.conv_block_1(x)))\n",
        "\n",
        "  # ✓"
      ],
      "metadata": {
        "id": "5IKNF22XbKYS"
      },
      "execution_count": 13,
      "outputs": []
    },
    {
      "cell_type": "code",
      "source": [
        "model_cpu = TinyVGGModel(in_dim=1,\n",
        "                     hid_dim=10,\n",
        "                     out_dim=len(training_data.classes)).to(\"cpu\")\n",
        "model_cpu\n",
        "\n",
        "# ✓"
      ],
      "metadata": {
        "id": "Vzcivbcf4G7d",
        "outputId": "5369fc6f-5067-4e15-8313-e21906ceb305",
        "colab": {
          "base_uri": "https://localhost:8080/"
        }
      },
      "execution_count": 14,
      "outputs": [
        {
          "output_type": "execute_result",
          "data": {
            "text/plain": [
              "TinyVGGModel(\n",
              "  (conv_block_1): Sequential(\n",
              "    (0): Conv2d(1, 10, kernel_size=(3, 3), stride=(1, 1))\n",
              "    (1): ReLU()\n",
              "    (2): Conv2d(10, 10, kernel_size=(3, 3), stride=(1, 1))\n",
              "    (3): ReLU()\n",
              "    (4): MaxPool2d(kernel_size=3, stride=1, padding=0, dilation=1, ceil_mode=False)\n",
              "  )\n",
              "  (conv_block_2): Sequential(\n",
              "    (0): Conv2d(10, 10, kernel_size=(3, 3), stride=(1, 1))\n",
              "    (1): ReLU()\n",
              "    (2): Conv2d(10, 10, kernel_size=(3, 3), stride=(1, 1))\n",
              "    (3): ReLU()\n",
              "    (4): MaxPool2d(kernel_size=3, stride=1, padding=0, dilation=1, ceil_mode=False)\n",
              "  )\n",
              "  (output_block): Sequential(\n",
              "    (0): Flatten(start_dim=1, end_dim=-1)\n",
              "    (1): Linear(in_features=2560, out_features=10, bias=True)\n",
              "  )\n",
              ")"
            ]
          },
          "metadata": {},
          "execution_count": 14
        }
      ]
    },
    {
      "cell_type": "markdown",
      "source": [
        "## 9. Train the model you built in exercise 8. for 5 epochs on CPU and GPU and see how long it takes on each."
      ],
      "metadata": {
        "id": "sf_3zUr7xlhy"
      }
    },
    {
      "cell_type": "code",
      "source": [
        "loss_fn = nn.CrossEntropyLoss()\n",
        "optimizer = torch.optim.SGD(params=model_cpu.parameters(),\n",
        "                            lr=0.1)\n",
        "\n",
        " # ✓"
      ],
      "metadata": {
        "id": "jSo6vVWFbNLD"
      },
      "execution_count": 15,
      "outputs": []
    },
    {
      "cell_type": "code",
      "source": [
        "from timeit import default_timer as timer\n",
        "from tqdm import tqdm"
      ],
      "metadata": {
        "id": "_8v1RrJM9shF"
      },
      "execution_count": 16,
      "outputs": []
    },
    {
      "cell_type": "code",
      "source": [
        "train_time_start_model_cpu = timer()\n",
        "\n",
        "epochs = 3\n",
        "for epoch in tqdm(range(epochs)):\n",
        "  print(f\"Epoch: {epoch}\\n---------------\")\n",
        "\n",
        "  model_cpu.train()\n",
        "  loss_accumulate = 0\n",
        "  for batch, (X, y) in enumerate(train_dataloader):\n",
        "    y_logit = model_cpu(X)\n",
        "    loss = loss_fn(y_logit, y)\n",
        "    loss_accumulate += loss\n",
        "    optimizer.zero_grad()\n",
        "    loss.backward()\n",
        "    optimizer.step()\n",
        "\n",
        "  loss_accumulate = loss_accumulate / len(train_dataloader)\n",
        "  print(f\"\\nTrain Loss: {loss_accumulate}\\n\")\n",
        "\n",
        "  loss_accumulate = 0\n",
        "  model_cpu.eval()\n",
        "  with torch.inference_mode():\n",
        "    for X, y in test_dataloader:\n",
        "      y_logit = model_cpu(X)\n",
        "      loss = loss_fn(y_logit, y)\n",
        "      loss_accumulate += loss\n",
        "\n",
        "  loss_accumulate = loss_accumulate / len(test_dataloader)\n",
        "  print(f\"\\nTest Loss: {loss_accumulate}\\n\")\n",
        "\n",
        "train_time_end_model_cpu = timer()\n",
        "total_train_time_model_cpu = train_time_end_model_cpu - train_time_start_model_cpu\n",
        "print(f\"Time to train on CPU: {total_train_time_model_cpu} seconds\")\n",
        "\n",
        " # ✓"
      ],
      "metadata": {
        "id": "2YVCwyKB-B12",
        "outputId": "8fd18750-75dc-4de2-a37b-966e4d876dc1",
        "colab": {
          "base_uri": "https://localhost:8080/"
        }
      },
      "execution_count": 17,
      "outputs": [
        {
          "output_type": "stream",
          "name": "stderr",
          "text": [
            "\r  0%|          | 0/3 [00:00<?, ?it/s]"
          ]
        },
        {
          "output_type": "stream",
          "name": "stdout",
          "text": [
            "Epoch: 0\n",
            "---------------\n",
            "\n",
            "Train Loss: 0.24345794320106506\n",
            "\n"
          ]
        },
        {
          "output_type": "stream",
          "name": "stderr",
          "text": [
            "\r 33%|███▎      | 1/3 [00:59<01:58, 59.25s/it]"
          ]
        },
        {
          "output_type": "stream",
          "name": "stdout",
          "text": [
            "\n",
            "Test Loss: 0.07189267873764038\n",
            "\n",
            "Epoch: 1\n",
            "---------------\n",
            "\n",
            "Train Loss: 0.07578133046627045\n",
            "\n"
          ]
        },
        {
          "output_type": "stream",
          "name": "stderr",
          "text": [
            "\r 67%|██████▋   | 2/3 [01:50<00:54, 54.26s/it]"
          ]
        },
        {
          "output_type": "stream",
          "name": "stdout",
          "text": [
            "\n",
            "Test Loss: 0.06358345597982407\n",
            "\n",
            "Epoch: 2\n",
            "---------------\n",
            "\n",
            "Train Loss: 0.05781858041882515\n",
            "\n"
          ]
        },
        {
          "output_type": "stream",
          "name": "stderr",
          "text": [
            "100%|██████████| 3/3 [02:39<00:00, 53.24s/it]"
          ]
        },
        {
          "output_type": "stream",
          "name": "stdout",
          "text": [
            "\n",
            "Test Loss: 0.05748975649476051\n",
            "\n",
            "Time to train on CPU: 159.73446141600002 seconds\n"
          ]
        },
        {
          "output_type": "stream",
          "name": "stderr",
          "text": [
            "\n"
          ]
        }
      ]
    },
    {
      "cell_type": "code",
      "source": [
        "model_gpu = TinyVGGModel(in_dim=1,\n",
        "                     hid_dim=10,\n",
        "                     out_dim=len(training_data.classes)).to(\"cuda\")\n",
        "loss_fn = nn.CrossEntropyLoss()\n",
        "optimizer = torch.optim.SGD(params=model_gpu.parameters(),\n",
        "                            lr=0.1)\n",
        "\n",
        " # ✓"
      ],
      "metadata": {
        "id": "QH--VvIpC5We"
      },
      "execution_count": 64,
      "outputs": []
    },
    {
      "cell_type": "code",
      "source": [
        "train_time_start_model_gpu = timer()\n",
        "\n",
        "epochs = 3\n",
        "for epoch in tqdm(range(epochs)):\n",
        "  print(f\"Epoch: {epoch}\\n---------------\")\n",
        "\n",
        "  model_gpu.train()\n",
        "  loss_accumulate = 0\n",
        "  for batch, (X, y) in enumerate(train_dataloader):\n",
        "    X, y = X.to(\"cuda\"), y.to(\"cuda\")\n",
        "\n",
        "    y_logit = model_gpu(X)\n",
        "    loss = loss_fn(y_logit, y)\n",
        "    loss_accumulate += loss\n",
        "    optimizer.zero_grad()\n",
        "    loss.backward()\n",
        "    optimizer.step()\n",
        "\n",
        "  loss_accumulate = loss_accumulate / len(train_dataloader)\n",
        "  print(f\"\\nTrain Loss: {loss_accumulate}\\n\")\n",
        "\n",
        "  loss_accumulate = 0\n",
        "  model_gpu.eval()\n",
        "  with torch.inference_mode():\n",
        "    for X, y in test_dataloader:\n",
        "      X, y = X.to(\"cuda\"), y.to(\"cuda\")\n",
        "\n",
        "      y_logit = model_gpu(X)\n",
        "      loss = loss_fn(y_logit, y)\n",
        "      loss_accumulate += loss\n",
        "\n",
        "  loss_accumulate = loss_accumulate / len(test_dataloader)\n",
        "  print(f\"\\nTest Loss: {loss_accumulate}\\n\")\n",
        "\n",
        "train_time_end_model_gpu = timer()\n",
        "total_train_time_model_gpu = train_time_end_model_gpu - train_time_start_model_gpu\n",
        "print(f\"Time to train on GPU: {total_train_time_model_gpu} seconds\")\n",
        "\n",
        " # ?"
      ],
      "metadata": {
        "id": "l5oovRJfCw5E",
        "outputId": "577f8844-ad2b-4f5d-8205-606575e83d2d",
        "colab": {
          "base_uri": "https://localhost:8080/"
        }
      },
      "execution_count": 67,
      "outputs": [
        {
          "output_type": "stream",
          "name": "stderr",
          "text": [
            "\r  0%|          | 0/3 [00:00<?, ?it/s]"
          ]
        },
        {
          "output_type": "stream",
          "name": "stdout",
          "text": [
            "Epoch: 0\n",
            "---------------\n",
            "\n",
            "Train Loss: 2.2999255657196045\n",
            "\n"
          ]
        },
        {
          "output_type": "stream",
          "name": "stderr",
          "text": [
            "\r 33%|███▎      | 1/3 [00:12<00:24, 12.08s/it]"
          ]
        },
        {
          "output_type": "stream",
          "name": "stdout",
          "text": [
            "\n",
            "Test Loss: 2.3027172088623047\n",
            "\n",
            "Epoch: 1\n",
            "---------------\n",
            "\n",
            "Train Loss: 2.3019750118255615\n",
            "\n"
          ]
        },
        {
          "output_type": "stream",
          "name": "stderr",
          "text": [
            "\r 67%|██████▋   | 2/3 [00:23<00:11, 11.40s/it]"
          ]
        },
        {
          "output_type": "stream",
          "name": "stdout",
          "text": [
            "\n",
            "Test Loss: 2.301198720932007\n",
            "\n",
            "Epoch: 2\n",
            "---------------\n",
            "\n",
            "Train Loss: 2.301790952682495\n",
            "\n"
          ]
        },
        {
          "output_type": "stream",
          "name": "stderr",
          "text": [
            "100%|██████████| 3/3 [00:33<00:00, 11.32s/it]"
          ]
        },
        {
          "output_type": "stream",
          "name": "stdout",
          "text": [
            "\n",
            "Test Loss: 2.3018486499786377\n",
            "\n",
            "Time to train on GPU: 33.95989867000003 seconds\n"
          ]
        },
        {
          "output_type": "stream",
          "name": "stderr",
          "text": [
            "\n"
          ]
        }
      ]
    },
    {
      "cell_type": "markdown",
      "source": [
        "## 10. Make predictions using your trained model and visualize at least 5 of them comparing the prediciton to the target label."
      ],
      "metadata": {
        "id": "w1CsHhPpxp1w"
      }
    },
    {
      "cell_type": "code",
      "source": [
        "y_preds = []\n",
        "y_trues = []\n",
        "\n",
        "y_preds_for_tensors = []\n",
        "\n",
        "model_cpu.eval()\n",
        "with torch.inference_mode():\n",
        "    for X, y in test_dataloader:\n",
        "        y_pred = model_cpu(X).argmax(dim=1)\n",
        "        y_pred_numpy = y_pred.cpu().numpy()\n",
        "        y_preds.extend(y_pred_numpy)\n",
        "        y_trues.extend(y.cpu().numpy())\n",
        "        y_preds_for_tensors.append(y_pred)\n",
        "\n",
        "for i in range(5):\n",
        "    plt.figure()\n",
        "    plt.imshow(testing_data[i][0].squeeze(), cmap=\"gray\")\n",
        "    plt.title(f\"Predicted: {y_preds[i]}, True: {y_trues[i]}\")\n",
        "    plt.show()\n",
        "\n",
        " # ✓"
      ],
      "metadata": {
        "id": "_YGgZvSobNxu",
        "outputId": "21aa364a-8095-46e7-cee1-99fb04da703f",
        "colab": {
          "base_uri": "https://localhost:8080/",
          "height": 1000
        }
      },
      "execution_count": 98,
      "outputs": [
        {
          "output_type": "display_data",
          "data": {
            "text/plain": [
              "<Figure size 640x480 with 1 Axes>"
            ],
            "image/png": "[encoded data removed]"
          },
          "metadata": {}
        },
        {
          "output_type": "display_data",
          "data": {
            "text/plain": [
              "<Figure size 640x480 with 1 Axes>"
            ],
            "image/png": "[encoded data removed]"
          },
          "metadata": {}
        },
        {
          "output_type": "display_data",
          "data": {
            "text/plain": [
              "<Figure size 640x480 with 1 Axes>"
            ],
            "image/png": "[encoded data removed]"
          },
          "metadata": {}
        },
        {
          "output_type": "display_data",
          "data": {
            "text/plain": [
              "<Figure size 640x480 with 1 Axes>"
            ],
            "image/png": "[encoded data removed]"
          },
          "metadata": {}
        },
        {
          "output_type": "display_data",
          "data": {
            "text/plain": [
              "<Figure size 640x480 with 1 Axes>"
            ],
            "image/png": "[encoded data removed]"
          },
          "metadata": {}
        }
      ]
    },
    {
      "cell_type": "markdown",
      "source": [
        "## 11. Plot a confusion matrix comparing your model's predictions to the truth labels."
      ],
      "metadata": {
        "id": "qQwzqlBWxrpG"
      }
    },
    {
      "cell_type": "code",
      "source": [
        "try:\n",
        "  import torchmetrics, mlxtend\n",
        "except:\n",
        "  !pip install -q torchmetrics -U mlxtend\n",
        "  import torchmetrics, mlxtend"
      ],
      "metadata": {
        "id": "vSrXiT_AbQ6e"
      },
      "execution_count": 99,
      "outputs": []
    },
    {
      "cell_type": "code",
      "source": [
        "from torchmetrics import ConfusionMatrix\n",
        "from mlxtend.plotting import plot_confusion_matrix\n",
        "\n",
        "y_preds_for_tensors_cat = torch.cat(y_preds_for_tensors).cpu()\n",
        "\n",
        "confmat = ConfusionMatrix(num_classes=len(training_data.classes), task=\"multiclass\")\n",
        "confmat_tensor = confmat(preds=y_preds_for_tensors_cat,\n",
        "                         target=testing_data.targets)\n",
        "\n",
        "fig, ax = plot_confusion_matrix(\n",
        "    conf_mat=confmat_tensor.numpy(),\n",
        "    class_names=training_data.classes,\n",
        "    figsize=(10, 7)\n",
        ")"
      ],
      "metadata": {
        "id": "thYtPuRWJ748",
        "outputId": "52a28ee2-24b8-4b54-8d0d-a4fee5680177",
        "colab": {
          "base_uri": "https://localhost:8080/",
          "height": 660
        }
      },
      "execution_count": 102,
      "outputs": [
        {
          "output_type": "display_data",
          "data": {
            "text/plain": [
              "<Figure size 1000x700 with 1 Axes>"
            ],
            "image/png": "[encoded data removed]"
          },
          "metadata": {}
        }
      ]
    },
    {
      "cell_type": "markdown",
      "source": [
        "-- Note: I'll stop here. I'll continue practicing with more free-form mini-projects."
      ],
      "metadata": {
        "id": "TEe04LPTOxE6"
      }
    },
    {
      "cell_type": "markdown",
      "source": [
        "## 12. Create a random tensor of shape `[1, 3, 64, 64]` and pass it through a `nn.Conv2d()` layer with various hyperparameter settings (these can be any settings you choose), what do you notice if the `kernel_size` parameter goes up and down?"
      ],
      "metadata": {
        "id": "lj6bDhoWxt2y"
      }
    },
    {
      "cell_type": "code",
      "source": [],
      "metadata": {
        "id": "leCTsqtSbR5P"
      },
      "execution_count": null,
      "outputs": []
    },
    {
      "cell_type": "markdown",
      "source": [
        "## 13. Use a model similar to the trained `model_2` from notebook 03 to make predictions on the test [`torchvision.datasets.FashionMNIST`](https://pytorch.org/vision/main/generated/torchvision.datasets.FashionMNIST.html) dataset.\n",
        "* Then plot some predictions where the model was wrong alongside what the label of the image should've been.\n",
        "* After visualing these predictions do you think it's more of a modelling error or a data error?\n",
        "* As in, could the model do better or are the labels of the data too close to each other (e.g. a \"Shirt\" label is too close to \"T-shirt/top\")?"
      ],
      "metadata": {
        "id": "VHS20cNTxwSi"
      }
    },
    {
      "cell_type": "code",
      "source": [],
      "metadata": {
        "id": "78a8LjtdbSZj"
      },
      "execution_count": null,
      "outputs": []
    }
  ]
}