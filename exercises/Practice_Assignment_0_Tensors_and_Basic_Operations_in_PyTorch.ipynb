{
  "nbformat": 4,
  "nbformat_minor": 0,
  "metadata": {
    "colab": {
      "provenance": [],
      "authorship_tag": "ABX9TyP2Sn6T0EuBI6HQqzj1qjQl",
      "include_colab_link": true
    },
    "kernelspec": {
      "name": "python3",
      "display_name": "Python 3"
    },
    "language_info": {
      "name": "python"
    }
  },
  "cells": [
    {
      "cell_type": "markdown",
      "metadata": {
        "id": "view-in-github",
        "colab_type": "text"
      },
      "source": [
        "<a href=\"https://colab.research.google.com/github/AndrewPolyak/PyTorch-Self-Learning/blob/main/exercises/Practice_Assignment_0_Tensors_and_Basic_Operations_in_PyTorch.ipynb\" target=\"_parent\"><img src=\"https://colab.research.google.com/assets/colab-badge.svg\" alt=\"Open In Colab\"/></a>"
      ]
    },
    {
      "cell_type": "code",
      "execution_count": null,
      "metadata": {
        "id": "rRIe4eYmfxQT"
      },
      "outputs": [],
      "source": [
        "import torch"
      ]
    },
    {
      "cell_type": "code",
      "source": [
        "# 1. Creating a 1D Tensor\n",
        "# Create a 1D tensor with 5 elements of type float32.\n",
        "\n",
        "tensor = torch.rand(size=(5,), dtype=torch.float32)\n",
        "tensor"
      ],
      "metadata": {
        "colab": {
          "base_uri": "https://localhost:8080/"
        },
        "id": "y9Oeuh_nf3zm",
        "outputId": "c0192de6-ddb7-4a74-ef39-7af076274401"
      },
      "execution_count": null,
      "outputs": [
        {
          "output_type": "execute_result",
          "data": {
            "text/plain": [
              "tensor([0.5757, 0.4420, 0.2356, 0.7583, 0.6304])"
            ]
          },
          "metadata": {},
          "execution_count": 16
        }
      ]
    },
    {
      "cell_type": "code",
      "source": [
        "#2 Creating a 2D Tensor with Zeros\n",
        "# Create a 2D tensor with shape (3, 4) filled with zeros.\n",
        "\n",
        "tensor = torch.zeros(size=(3, 4))\n",
        "tensor"
      ],
      "metadata": {
        "colab": {
          "base_uri": "https://localhost:8080/"
        },
        "id": "-qarEfPDf9gU",
        "outputId": "76a30eb3-09e4-4ebd-e235-d54617037c55"
      },
      "execution_count": null,
      "outputs": [
        {
          "output_type": "execute_result",
          "data": {
            "text/plain": [
              "tensor([[0., 0., 0., 0.],\n",
              "        [0., 0., 0., 0.],\n",
              "        [0., 0., 0., 0.]])"
            ]
          },
          "metadata": {},
          "execution_count": 17
        }
      ]
    },
    {
      "cell_type": "code",
      "source": [
        "# 3. Creating a 3D Tensor with Random Numbers\n",
        "# Create a 3D tensor with shape (2, 3, 4) filled with random numbers.\n",
        "\n",
        "tensor = torch.rand(size=(2, 3, 4))\n",
        "tensor"
      ],
      "metadata": {
        "colab": {
          "base_uri": "https://localhost:8080/"
        },
        "id": "ZN4hR544gAub",
        "outputId": "9bf61067-9b99-469d-da73-d2b09f306506"
      },
      "execution_count": null,
      "outputs": [
        {
          "output_type": "execute_result",
          "data": {
            "text/plain": [
              "tensor([[[0.4217, 0.7602, 0.0469, 0.7621],\n",
              "         [0.2996, 0.3763, 0.9328, 0.6005],\n",
              "         [0.3275, 0.4644, 0.0703, 0.8996]],\n",
              "\n",
              "        [[0.2928, 0.2022, 0.0279, 0.4789],\n",
              "         [0.7019, 0.7651, 0.3719, 0.8273],\n",
              "         [0.5477, 0.3429, 0.6233, 0.6656]]])"
            ]
          },
          "metadata": {},
          "execution_count": 18
        }
      ]
    },
    {
      "cell_type": "code",
      "source": [
        "# 4. Tensor Properties\n",
        "# Given a tensor a = torch.tensor([1, 2, 3]), what is its shape and data type?\n",
        "\n",
        "a = torch.tensor([1, 2, 3])\n",
        "print(a.shape, a.dtype)\n",
        "\n",
        "# It's shape is [3]. It's datatype is int64"
      ],
      "metadata": {
        "colab": {
          "base_uri": "https://localhost:8080/"
        },
        "id": "AWKkKLr-gD-c",
        "outputId": "bde75b26-8de1-4fd5-84ab-5a8d5dcac376"
      },
      "execution_count": null,
      "outputs": [
        {
          "output_type": "stream",
          "name": "stdout",
          "text": [
            "torch.Size([3]) torch.int64\n"
          ]
        }
      ]
    },
    {
      "cell_type": "code",
      "source": [
        "# 5. Element-wise Addition\n",
        "# Perform element-wise addition of two tensors:\n",
        "# a = torch.tensor([1, 2, 3]) and b = torch.tensor([4, 5, 6]).\n",
        "\n",
        "a = torch.tensor([1, 2, 3])\n",
        "b = torch.tensor([4, 5, 6])\n",
        "\n",
        "print(torch.add(a, b))"
      ],
      "metadata": {
        "colab": {
          "base_uri": "https://localhost:8080/"
        },
        "id": "UsPNM0m6gD8V",
        "outputId": "c8fbfd0e-267d-418c-e8a4-8d816580a8cc"
      },
      "execution_count": null,
      "outputs": [
        {
          "output_type": "stream",
          "name": "stdout",
          "text": [
            "tensor([5, 7, 9])\n"
          ]
        }
      ]
    },
    {
      "cell_type": "code",
      "source": [
        "# 6. Matrix Multiplication\n",
        "# Perform matrix multiplication of two tensors:\n",
        "# a = torch.tensor([[1, 2], [3, 4]]) and b = torch.tensor([[5, 6], [7, 8]]).\n",
        "\n",
        "a = torch.tensor([[1, 2], [3, 4]])\n",
        "b = torch.tensor([[5, 6], [7, 8]])\n",
        "\n",
        "print(torch.mm(a, b))"
      ],
      "metadata": {
        "colab": {
          "base_uri": "https://localhost:8080/"
        },
        "id": "4EBZarDhgD6G",
        "outputId": "48bf54b6-9976-4d1f-9504-70b7e86bc688"
      },
      "execution_count": null,
      "outputs": [
        {
          "output_type": "stream",
          "name": "stdout",
          "text": [
            "tensor([[19, 22],\n",
            "        [43, 50]])\n"
          ]
        }
      ]
    },
    {
      "cell_type": "code",
      "source": [
        "# 7 Transposing a Tensor\n",
        "# Transpose a tensor a = torch.tensor([[1, 2, 3], [4, 5, 6]]) and explain the resulting shape.\n",
        "\n",
        "a = torch.tensor([[1, 2, 3], [4, 5, 6]])\n",
        "print(a)\n",
        "\n",
        "a = a.T\n",
        "print(\"\\n\", a)\n",
        "\n",
        "# Explanation: The first row turns into the first column. The second row turns into the second column. Shape change from (2, 3) to (3 ,2)"
      ],
      "metadata": {
        "colab": {
          "base_uri": "https://localhost:8080/"
        },
        "id": "UBQpKa-dgD3p",
        "outputId": "70302a5e-8357-4531-e763-7bf64db56eab"
      },
      "execution_count": null,
      "outputs": [
        {
          "output_type": "stream",
          "name": "stdout",
          "text": [
            "tensor([[1, 2, 3],\n",
            "        [4, 5, 6]])\n",
            "\n",
            " tensor([[1, 4],\n",
            "        [2, 5],\n",
            "        [3, 6]])\n"
          ]
        }
      ]
    },
    {
      "cell_type": "code",
      "source": [
        "# 8 Reshaping a Tensor\n",
        "# Reshape a tensor a = torch.tensor([1, 2, 3, 4, 5, 6]) into a 2D tensor with shape (2, 3).\n",
        "\n",
        "a = torch.tensor([1, 2, 3, 4, 5, 6])\n",
        "a = torch.reshape(a, (2, 3))\n",
        "a"
      ],
      "metadata": {
        "colab": {
          "base_uri": "https://localhost:8080/"
        },
        "id": "gQ47IaqMgD1Z",
        "outputId": "9fd9e11f-7d3c-4b99-84f4-d43da59310b0"
      },
      "execution_count": null,
      "outputs": [
        {
          "output_type": "execute_result",
          "data": {
            "text/plain": [
              "tensor([[1, 2, 3],\n",
              "        [4, 5, 6]])"
            ]
          },
          "metadata": {},
          "execution_count": 31
        }
      ]
    },
    {
      "cell_type": "code",
      "source": [
        "# 9 Indexing into a Tensor\n",
        "# Index into a tensor a = torch.tensor([[1, 2, 3], [4, 5, 6], [7, 8, 9]]) to get the element at row 1, column 2.\n",
        "\n",
        "a = torch.tensor([[1, 2, 3],\n",
        "                  [4, 5, 6],\n",
        "                  [7, 8, 9]])\n",
        "print (a[1][2])"
      ],
      "metadata": {
        "colab": {
          "base_uri": "https://localhost:8080/"
        },
        "id": "C4P2NmRngDzD",
        "outputId": "c850cdf6-e323-48d2-8512-88904c68bfd6"
      },
      "execution_count": null,
      "outputs": [
        {
          "output_type": "stream",
          "name": "stdout",
          "text": [
            "tensor(6)\n"
          ]
        }
      ]
    },
    {
      "cell_type": "code",
      "source": [
        "# 10 Changing Data Type\n",
        "# Change the data type of a tensor a = torch.tensor([1, 2, 3], dtype=torch.int32) to float32.\n",
        "\n",
        "a = torch.tensor([1, 2, 3], dtype=torch.int32)\n",
        "print(a.dtype)\n",
        "a = a.type(torch.float32)\n",
        "print(a.dtype)"
      ],
      "metadata": {
        "colab": {
          "base_uri": "https://localhost:8080/"
        },
        "id": "tqY62cMtgVB9",
        "outputId": "a3618f5c-8171-4998-9600-f35b30abdf23"
      },
      "execution_count": null,
      "outputs": [
        {
          "output_type": "stream",
          "name": "stdout",
          "text": [
            "torch.int32\n",
            "torch.float32\n"
          ]
        }
      ]
    },
    {
      "cell_type": "code",
      "source": [
        "# 11 Broadcasting in Element-wise Multiplication\n",
        "# Perform element-wise multiplication of a 1D tensor a = torch.tensor([1, 2, 3]) and a 2D tensor b = torch.tensor([[4, 5, 6], [7, 8, 9]]). Explain how broadcasting works in this case.\n",
        "\n",
        "a = torch.tensor([1, 2, 3])\n",
        "b = torch.tensor([[4, 5, 6],\n",
        "                  [7, 8, 9]])\n",
        "\n",
        "print(a.shape)\n",
        "print(b.shape)\n",
        "print(a * b)\n",
        "\n",
        "# The broadcasting works since the tensor trailing shapes of 3 both match. The second trailing shapes are 2 and... none in a (fewer dimensions), meaning a 1 is prepended. This means they can multiply, since it would be like multiplying (1, 3) * (2, 3)"
      ],
      "metadata": {
        "colab": {
          "base_uri": "https://localhost:8080/"
        },
        "id": "Llf4p3QWgU_u",
        "outputId": "9baf19cd-b21e-4e1e-b2a0-622a71ca759f"
      },
      "execution_count": null,
      "outputs": [
        {
          "output_type": "stream",
          "name": "stdout",
          "text": [
            "torch.Size([3])\n",
            "torch.Size([2, 3])\n",
            "tensor([[ 4, 10, 18],\n",
            "        [ 7, 16, 27]])\n"
          ]
        }
      ]
    },
    {
      "cell_type": "code",
      "source": [
        "# 12 Incompatible Shapes for Matrix Multiplication\n",
        "# Create two tensors with incompatible shapes for matrix multiplication and explain why they cannot be multiplied.\n",
        "\n",
        "tensor1 = torch.rand(1, 2)\n",
        "tensor2 = torch.rand(3, 4)\n",
        "print (torch.mm(tensor1, tensor2))\n",
        "\n",
        "# The \"inner\" dimensions between the two are not equal, meaning MM cannot be applied"
      ],
      "metadata": {
        "colab": {
          "base_uri": "https://localhost:8080/",
          "height": 211
        },
        "id": "fQ1PXgIkgU9o",
        "outputId": "3c06b1a2-deda-4aeb-851f-22559a81ce00"
      },
      "execution_count": null,
      "outputs": [
        {
          "output_type": "error",
          "ename": "RuntimeError",
          "evalue": "mat1 and mat2 shapes cannot be multiplied (1x2 and 3x4)",
          "traceback": [
            "\u001b[0;31m---------------------------------------------------------------------------\u001b[0m",
            "\u001b[0;31mRuntimeError\u001b[0m                              Traceback (most recent call last)",
            "\u001b[0;32m<ipython-input-48-86c16f12d403>\u001b[0m in \u001b[0;36m<cell line: 0>\u001b[0;34m()\u001b[0m\n\u001b[1;32m      4\u001b[0m \u001b[0mtensor1\u001b[0m \u001b[0;34m=\u001b[0m \u001b[0mtorch\u001b[0m\u001b[0;34m.\u001b[0m\u001b[0mrand\u001b[0m\u001b[0;34m(\u001b[0m\u001b[0;36m1\u001b[0m\u001b[0;34m,\u001b[0m \u001b[0;36m2\u001b[0m\u001b[0;34m)\u001b[0m\u001b[0;34m\u001b[0m\u001b[0;34m\u001b[0m\u001b[0m\n\u001b[1;32m      5\u001b[0m \u001b[0mtensor2\u001b[0m \u001b[0;34m=\u001b[0m \u001b[0mtorch\u001b[0m\u001b[0;34m.\u001b[0m\u001b[0mrand\u001b[0m\u001b[0;34m(\u001b[0m\u001b[0;36m3\u001b[0m\u001b[0;34m,\u001b[0m \u001b[0;36m4\u001b[0m\u001b[0;34m)\u001b[0m\u001b[0;34m\u001b[0m\u001b[0;34m\u001b[0m\u001b[0m\n\u001b[0;32m----> 6\u001b[0;31m \u001b[0mprint\u001b[0m \u001b[0;34m(\u001b[0m\u001b[0mtorch\u001b[0m\u001b[0;34m.\u001b[0m\u001b[0mmm\u001b[0m\u001b[0;34m(\u001b[0m\u001b[0mtensor1\u001b[0m\u001b[0;34m,\u001b[0m \u001b[0mtensor2\u001b[0m\u001b[0;34m)\u001b[0m\u001b[0;34m)\u001b[0m\u001b[0;34m\u001b[0m\u001b[0;34m\u001b[0m\u001b[0m\n\u001b[0m\u001b[1;32m      7\u001b[0m \u001b[0;34m\u001b[0m\u001b[0m\n\u001b[1;32m      8\u001b[0m \u001b[0;31m# The \"inner\" dimensions between the two are not equal, meaning MM cannot be applied\u001b[0m\u001b[0;34m\u001b[0m\u001b[0;34m\u001b[0m\u001b[0m\n",
            "\u001b[0;31mRuntimeError\u001b[0m: mat1 and mat2 shapes cannot be multiplied (1x2 and 3x4)"
          ]
        }
      ]
    },
    {
      "cell_type": "code",
      "source": [
        "# 13 Sum of Tensor Elements\n",
        "# Calculate the sum of all elements in a tensor a = torch.tensor([[1, 2, 3], [4, 5, 6]]).\n",
        "\n",
        "a = torch.tensor([[1, 2, 3], [4, 5, 6]])\n",
        "a.sum()"
      ],
      "metadata": {
        "colab": {
          "base_uri": "https://localhost:8080/"
        },
        "id": "xga1IXxvgU7K",
        "outputId": "c2873c38-fb98-4e40-a1c5-261c13880370"
      },
      "execution_count": null,
      "outputs": [
        {
          "output_type": "execute_result",
          "data": {
            "text/plain": [
              "tensor(21)"
            ]
          },
          "metadata": {},
          "execution_count": 50
        }
      ]
    },
    {
      "cell_type": "code",
      "source": [
        "# 14 Finding the Maximum Value\n",
        "# Find the maximum value in a tensor a = torch.tensor([1, 2, 3, 4, 5]).\n",
        "\n",
        "a = torch.tensor([1, 2, 3, 4, 5])\n",
        "a.max()"
      ],
      "metadata": {
        "colab": {
          "base_uri": "https://localhost:8080/"
        },
        "id": "nBqF0yMjgU40",
        "outputId": "740b14f1-7c4d-4c40-e630-9b8195e26d8d"
      },
      "execution_count": null,
      "outputs": [
        {
          "output_type": "execute_result",
          "data": {
            "text/plain": [
              "tensor(5)"
            ]
          },
          "metadata": {},
          "execution_count": 51
        }
      ]
    }
  ]
}